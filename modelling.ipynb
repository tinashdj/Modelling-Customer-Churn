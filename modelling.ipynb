{
 "cells": [
  {
   "cell_type": "code",
   "execution_count": 46,
   "id": "b2b46e4f",
   "metadata": {},
   "outputs": [],
   "source": [
    "#Load data manipulation package\n",
    "import numpy as np\n",
    "import pandas as pd\n",
    "\n",
    "#Load data visualization package\n",
    "import matplotlib.pyplot as plt\n",
    "import seaborn as sns\n",
    "\n",
    "#Data dumb store\n",
    "import joblib"
   ]
  },
  {
   "cell_type": "markdown",
   "id": "5c661825",
   "metadata": {},
   "source": [
    "# 1. Business Understanding\n",
    "---"
   ]
  },
  {
   "cell_type": "markdown",
   "id": "495e7a61",
   "metadata": {},
   "source": [
    "- Knowing customer churn is essential for internet provider company for effectively prevent them using appropriate marketing initiative\n",
    "- Internet provider company wants to give specific marketing initiative for preventing customer churn\n",
    "- They want to spend this budget as efficient as possible"
   ]
  },
  {
   "cell_type": "markdown",
   "id": "1101f740",
   "metadata": {},
   "source": [
    "## 1.2 Business Questions\n",
    "---"
   ]
  },
  {
   "cell_type": "markdown",
   "id": "72c22ede",
   "metadata": {},
   "source": [
    "- How can internet provider company develop marketing effectiveness strategy to increase reduce 30% of churn?\n",
    "- What marketing initiatives are suitable to reduce the 30% customer churn?\n",
    "- How to prevent unnecessary budget allocation?"
   ]
  },
  {
   "cell_type": "markdown",
   "id": "c894206a",
   "metadata": {},
   "source": [
    "## 1.3 Modelling Task\n",
    "---"
   ]
  },
  {
   "cell_type": "markdown",
   "id": "c58f512b",
   "metadata": {},
   "source": [
    "- Output target: **customer status of churn (categorical)**\n",
    "\n",
    "\n",
    "- The goal of this project is to predict whether a customer will churn or not based on various features.\n",
    "Task: **Classification task**\n",
    "\n",
    "\n",
    "- We need a model that can be easily interpreted so that we can understand how each feature contributes to the prediction. This can help us gain insights into the underlying factors that influence whether a customer will churn or not.\n",
    "Model used: **Logistic regression**\n",
    "\n",
    "\n",
    "- We will use ROC/AUC as our evaluation metric since we want it's not influeced by imbalance target and we need to measure threshold using ROC/AUC. **Evaluation metric: ROC/AUC & Recall**"
   ]
  },
  {
   "cell_type": "markdown",
   "id": "3778beec",
   "metadata": {},
   "source": [
    "# 2. Modelling Workflow\n",
    "---"
   ]
  },
  {
   "cell_type": "markdown",
   "id": "b695ddfe",
   "metadata": {},
   "source": [
    "## **Machine Learning Workflow** (Simplified)\n",
    "\n",
    "### 1. <font color='blue'> Importing Data to Python:\n",
    "    * Data description, Importing data, Data splitting\n",
    "    \n",
    "### 2. <font color='blue'> Exploratory Data Analysis:\n",
    "    *Descriptive statistic, Missing value checking, Data exploration\n",
    "    \n",
    "### 3. <font color='blue'> Prepocessing:\n",
    "    * Missing value handling, Outliers handling\n",
    "\n",
    "### 4. <font color='blue'> Modelling:\n",
    "    * Model fitting, Evaluation\n",
    "    \n",
    "### 5. <font color='blue'> Lift Chart & Interpretation:\n",
    "    * Targetting customer churn, Coeficient interpretation"
   ]
  },
  {
   "cell_type": "markdown",
   "id": "a44241cd",
   "metadata": {},
   "source": [
    "# 3. Load Data\n",
    "---"
   ]
  },
  {
   "cell_type": "markdown",
   "id": "955ec5c7",
   "metadata": {},
   "source": [
    "- We want to describe our features and target feature\n",
    "- Load the data from specific path"
   ]
  },
  {
   "cell_type": "markdown",
   "id": "4fe096a2",
   "metadata": {},
   "source": [
    "## 3.1 Data Description\n",
    "---"
   ]
  },
  {
   "cell_type": "markdown",
   "id": "d7dc2aa3",
   "metadata": {},
   "source": [
    "The potential **predictors** for the response variable are:\n",
    "1. `is_tv_subscriber`\n",
    " - `is_tv_subscriber = 0` for the customers who didn't subscribe to the TV package or only subscribe to the internet package.\n",
    "  - `is_tv_subscriber = 1` for the customers who subscribe to the TV package.\n",
    "\n",
    "\n",
    "2. `is_movie_package_subscriber`\n",
    "  - `is_movie_package_subscriber = 0` for the customers who didn't subscribe to the movie package or only subscribe to the internet package.\n",
    "  - `is_movie_package_subscriber = 1` for the customers who subscribe to the movie package.\n",
    "\n",
    "\n",
    "3. `subscription_age` is the years of customer using the internet service.\n",
    "4. `bill_avg` is the last three months' bill average.\n",
    "5. `remaining_contract` is the year remaining for the customer's subscription contract. If null, the customer hasn't had a contract.\n",
    "6. `service_failure_count` is the number of calls to the Call Center for service failure for the last three months.\n",
    "7. `download_avg` is the last three months internet usage in GB.\n",
    "8. `upload_avg` is the last three months upload in GB.\n",
    "9. `download_over_limit` is the count of the internet usage over the customer's limit.\n",
    "\n",
    "**Target variable**:\n",
    "- `churn`\n",
    "  - `churn = 0` for the customers who retain.\n",
    "  - `churn = 1` for the customers who cancel their subscription before the contract ends or the customers who didn't renew their subscription after the contract ended."
   ]
  },
  {
   "cell_type": "markdown",
   "id": "e8de5c99",
   "metadata": {},
   "source": [
    "## 3.2 Importing Data\n",
    "---"
   ]
  },
  {
   "cell_type": "code",
   "execution_count": 47,
   "id": "a132913a",
   "metadata": {},
   "outputs": [],
   "source": [
    "X_train_clean = joblib.load(\"data/processed/X_train_clean.pkl\")\n",
    "y_train_clean = joblib.load(\"data/processed/y_train_clean.pkl\")\n",
    "X_valid_clean = joblib.load(\"data/processed/X_valid_clean.pkl\")\n",
    "y_valid_clean = joblib.load(\"data/processed/y_valid_clean.pkl\")\n",
    "X_test_clean  = joblib.load(\"data/processed/X_test_clean.pkl\")\n",
    "y_test_clean  = joblib.load(\"data/processed/y_test_clean.pkl\")"
   ]
  },
  {
   "cell_type": "markdown",
   "id": "c2b21c69-e0f1-444f-90e2-f36044459778",
   "metadata": {},
   "source": [
    "# 4. Modelling\n",
    "---"
   ]
  },
  {
   "cell_type": "markdown",
   "id": "654929a0-6874-4ab3-ab64-001b1a04cbfc",
   "metadata": {},
   "source": [
    "## 4.1 Baseline Model\n",
    "---"
   ]
  },
  {
   "cell_type": "markdown",
   "id": "a8bef576-512b-405a-b987-deb3edf81fee",
   "metadata": {},
   "source": [
    "- The baseline model is a simple and straightforward model used as a point of reference for comparing the performance of other models.\n",
    "\n",
    "- By comparing the performance of more advanced models to the baseline model, we can assess whether the other models provide any significant improvement.\n",
    "\n",
    "- The baseline model helps establish a benchmark to evaluate the performance of more complex models.\n",
    "\n",
    "- If a more sophisticated model performs worse than the baseline model, it indicates that the advanced model is not effective and needs improvement.\n"
   ]
  },
  {
   "cell_type": "code",
   "execution_count": 48,
   "id": "51d98861",
   "metadata": {},
   "outputs": [],
   "source": [
    "def fit_eval_model(model, x_train, y_train, x_valid, y_valid):\n",
    "    \"\"\"\n",
    "    Fit & evaluate model with AUC as its scoring metrics.\n",
    "\n",
    "    Parameters\n",
    "    ----------\n",
    "    model : sklearn object\n",
    "        The estimator.\n",
    "\n",
    "    x_train, x_valid : pandas DataFrame\n",
    "                       Sample of input train & valid data.\n",
    "\n",
    "    y_train, y_valid : pandas series\n",
    "                       Sample of output train & valid data.\n",
    "\n",
    "\n",
    "    Returns\n",
    "    -------\n",
    "    model_summary : pandas dataframe\n",
    "        Store model performance on train & valid set.\n",
    "    \"\"\"\n",
    "    # Fit the model\n",
    "    model.fit(x_train, y_train)\n",
    "\n",
    "    # Predict the class probability for the given train & valid set\n",
    "    y_train_pred = model.predict_proba(x_train)[:, 1]\n",
    "    y_valid_pred = model.predict_proba(x_valid)[:, 1]\n",
    "\n",
    "    # Calculate the performance on train & valid data\n",
    "    auc_train = roc_auc_score(y_train, y_train_pred)\n",
    "    auc_valid = roc_auc_score(y_valid, y_valid_pred)\n",
    "\n",
    "    # Summarize the model\n",
    "    model_summary = pd.DataFrame({'AUC train': [auc_train], \n",
    "                                  'AUC valid': [auc_valid]})\n",
    "\n",
    "    return model_summary"
   ]
  },
  {
   "cell_type": "code",
   "execution_count": 49,
   "id": "2a4950fd",
   "metadata": {},
   "outputs": [],
   "source": [
    "# CHAT GPT----------------------------------------------------------------------------------------------------------------------\n",
    "from sklearn.dummy import DummyClassifier"
   ]
  },
  {
   "cell_type": "code",
   "execution_count": 50,
   "id": "ec7d7af0",
   "metadata": {},
   "outputs": [],
   "source": [
    "# Create dummy classifier\n",
    "dummy_clf = DummyClassifier(strategy='most_frequent', random_state=42)"
   ]
  },
  {
   "cell_type": "code",
   "execution_count": 51,
   "id": "9ea5566b",
   "metadata": {},
   "outputs": [],
   "source": [
    "# CHAT GPT----------------------------------------------------------------------------------------------------------------------\n",
    "from sklearn.metrics import roc_auc_score"
   ]
  },
  {
   "cell_type": "code",
   "execution_count": 52,
   "id": "ea3c6b41",
   "metadata": {},
   "outputs": [],
   "source": [
    "# Get the model performance\n",
    "summary_baseline = fit_eval_model(model = dummy_clf,\n",
    "                                  x_train = X_train_clean,\n",
    "                                  y_train = y_train_clean,\n",
    "                                  x_valid = X_valid_clean,\n",
    "                                  y_valid = y_valid_clean)"
   ]
  },
  {
   "cell_type": "code",
   "execution_count": 53,
   "id": "29a1b0ca",
   "metadata": {},
   "outputs": [
    {
     "data": {
      "text/html": [
       "<div>\n",
       "<style scoped>\n",
       "    .dataframe tbody tr th:only-of-type {\n",
       "        vertical-align: middle;\n",
       "    }\n",
       "\n",
       "    .dataframe tbody tr th {\n",
       "        vertical-align: top;\n",
       "    }\n",
       "\n",
       "    .dataframe thead th {\n",
       "        text-align: right;\n",
       "    }\n",
       "</style>\n",
       "<table border=\"1\" class=\"dataframe\">\n",
       "  <thead>\n",
       "    <tr style=\"text-align: right;\">\n",
       "      <th></th>\n",
       "      <th>AUC train</th>\n",
       "      <th>AUC valid</th>\n",
       "      <th>Model</th>\n",
       "    </tr>\n",
       "  </thead>\n",
       "  <tbody>\n",
       "    <tr>\n",
       "      <th>0</th>\n",
       "      <td>0.5</td>\n",
       "      <td>0.5</td>\n",
       "      <td>Baseline</td>\n",
       "    </tr>\n",
       "  </tbody>\n",
       "</table>\n",
       "</div>"
      ],
      "text/plain": [
       "   AUC train  AUC valid     Model\n",
       "0        0.5        0.5  Baseline"
      ]
     },
     "execution_count": 53,
     "metadata": {},
     "output_type": "execute_result"
    }
   ],
   "source": [
    "# add model name\n",
    "summary_baseline['Model'] = 'Baseline'\n",
    "\n",
    "# Rearrange the columns\n",
    "summary_baseline.columns = ['AUC train', 'AUC valid', 'Model']\n",
    "\n",
    "# show \n",
    "summary_baseline"
   ]
  },
  {
   "cell_type": "markdown",
   "id": "f5441a85-30ba-4226-833c-22a150d8a62f",
   "metadata": {},
   "source": [
    "\n",
    "**Dummy Classifier**\n",
    "\n",
    "- A dummy classifier is a basic classification model that follows a predefined strategy to make predictions.\n",
    "\n",
    "- Strategy = \"most_frequent\": In this case, the dummy classifier's strategy is set to \"most_frequent,\" which means it always predicts the most frequent class from the training data.\n",
    "\n",
    "- The dummy classifier with the \"most_frequent\" strategy predicts the majority class for all instances in the dataset, regardless of the input features.\n",
    "\n",
    "- Metrics like accuracy, precision, recall, and F1 score can be used to compare the performance of other models against the baseline model."
   ]
  },
  {
   "cell_type": "markdown",
   "id": "52248aca-acc1-4265-9ae2-524f61f3fdb1",
   "metadata": {},
   "source": [
    "## 4.2 Modelling\n",
    "---"
   ]
  },
  {
   "cell_type": "markdown",
   "id": "a6b28290-0cf7-41f6-8d53-f3630ec646f9",
   "metadata": {},
   "source": [
    "**Sigmoid Function**\n",
    "- The sigmoid function is often used in logistic regression because it allows us to map the output of a linear model (which can take on any value) to a probability (which must be between 0 and 1).\n",
    "<br>\n",
    "$$\n",
    "\\begin{align*}\n",
    "p(x) &= \\frac{e^{(\\beta_{0}+\\beta_{1}x)}}{1+e^{(\\beta_{0} +\\beta_{1}x)}} \\\\\n",
    "&= \\frac{e^{\\text{log(odds)}}}{1+e^{\\text{log(odds)}}} \\\\\n",
    "\\end{align*}\n",
    "$$\n",
    "<br>\n",
    "- When we use logistic regression for classification, we use a threshold value (usually 0.5) to decide whether a given input belongs to the positive class or the negative class.\n",
    "\n",
    "<br>\n",
    "\n",
    "**Likelihood Function**\n",
    "\n",
    "<br>\n",
    "\n",
    "In general, **likelihood function** for the identical and independent observations with binary response:\n",
    "\n",
    "$$\n",
    "\\mathcal{L} = \\prod_{i=1}^{n}p(x_{i})^{y_{i}}[1-p(x_{i})]^{(1-y_{i})}\n",
    "$$\n",
    "\n",
    "<br>\n",
    "\n",
    "**Maximum Likelihood Estimation**\n",
    "\n",
    "<br>\n",
    "\n",
    "- We want the maximum likelihood estimate $p(x)$ from the n observations, where:\n",
    "$$\n",
    "p(x) = \\frac{e^{(\\beta_{0}+\\beta_{1}x)}}{1+e^{(\\beta_{0}+\\beta_{1}x)}}\n",
    "$$\n",
    "\n",
    "<br>\n",
    "\n",
    "- To maximize the likelihood function $\\mathcal{L}$, we need to find the optimum parameter $\\beta_{0}$ and $\\beta_{1}$.\n",
    "\n",
    "<br>\n",
    "\n",
    "**Negative Log Likelihood (NLL)**\n",
    "\n",
    "<br>\n",
    "\n",
    "\n",
    "- To make it easier to compute, we transform the likelihood function into **log likelihood function**:\n",
    "\n",
    "<br>\n",
    "\n",
    "$$\n",
    "\\log(\\mathcal{L}(\\beta)) = \\sum_{i=1}^{n}(y_{i}\\log[p(x_{i})]+(1-y_{i})\\log[1-p(x_{i})])\n",
    "$$\n",
    "<br>\n",
    "- Our objective is to maximise this function by finding the optimal value of $\\beta_{0}$ and $\\beta_{1}$\n",
    "\n",
    "- We want to maximize the log likelihood, but gradient descent optimization works to minimize the cost function.\n",
    "- Thus, we take the negative value of log likelihood as the cost function.\n",
    "- So if larger negative value we get basically is the same as we maximise the likelihood function --> Our goal is to minimize the negative log likelihood (NLL) function\n",
    "- The **negative log likelihood (NLL)** or **log loss** is defined as:\n",
    "<br>\n",
    "$$\n",
    "-\\log(\\mathcal{L}(\\beta)) = -\\sum_{i=1}^{n}(y_{i}\\log[p(x_{i})]+(1-y_{i})\\log[1-p(x_{i})])\n",
    "$$\n",
    "\n",
    "<br>\n",
    "\n",
    "**Gradient Descent**\n",
    "- Since we want to **Minimize** the cost function negative log likelihood, we can se by this following notation:\n",
    "<br>\n",
    "\n",
    "$$\n",
    "\\underset{\\beta}{\\arg \\min} \\ \\text{NLL}(\\beta)\n",
    "$$\n",
    "\n",
    "- In order to implement gradient descent, we have to take partial derivative of log-likelihood with respect to each parameter\n",
    "- The derivative of log loss or negative log-likelihood (NLL) w.r.t. $\\beta_{j}$ is called the gradient of $\\beta_{j}$.\n",
    "<br>\n",
    "<br>\n",
    "$$\n",
    "\\frac{\\partial \\text N \\text L \\text L}{\\partial \\beta_{j}}=-\\sum_{i=1}^{n}\\left [ y_{i}-p(x_{i}) \\right ]x_{j}\n",
    "$$ <br>\n",
    "- Then we keep updating parameter $\\beta$ until converge on the best value of $\\beta$ (Or until several n_interation) <br>\n",
    "<br>\n",
    "$$\n",
    "\\beta_{j}^{new} := \\beta_{j}^{old} - \\alpha \\frac{\\partial \\text N \\text L \\text L}{\\partial \\beta_{j}^{old}}\n",
    "$$ <br>\n",
    "- Where $\\alpha$ is the learning rate and $:=$ operation overwrite the $\\beta_{old}$ with $\\beta_{new}$\n",
    "\n",
    "**Decision Boundary**\n",
    "- After finding the optimal value of $\\beta_{0}$ and $\\beta_{1}$, we can set the parameter to the sigmoid function\n",
    "<br>\n",
    "\n",
    "$$\n",
    "p(x) = \\frac{e^{(\\beta_{0}+\\beta_{1}x)}}{1+e^{(\\beta_{0}+\\beta_{1}x)}}\n",
    "$$\n",
    "<br>\n",
    "- Then we can predict the input x with output as probability with the decision boundary: <br> <br>\n",
    "\\begin{equation}\n",
    "\\text{decision}(x) = \\begin{cases}\n",
    "1 & \\text{if } p(y=1|x) > 0.5 \\\\\n",
    "0 & \\text{otherwise}.\n",
    "\\end{cases}\n",
    "\\end{equation}\n",
    "\n",
    "Ref: [Lecture Note](https://cs229.stanford.edu/notes2021fall/cs229-notes1.pdf)"
   ]
  },
  {
   "cell_type": "code",
   "execution_count": 54,
   "id": "defb6726",
   "metadata": {},
   "outputs": [],
   "source": [
    "# Import package\n",
    "from sklearn.linear_model import LogisticRegression"
   ]
  },
  {
   "cell_type": "code",
   "execution_count": 55,
   "id": "00afd5c3",
   "metadata": {},
   "outputs": [],
   "source": [
    "# Create modeling object\n",
    "lr_clf = LogisticRegression(penalty = 'none',\n",
    "                            class_weight = 'balanced',\n",
    "                            max_iter = 10000)"
   ]
  },
  {
   "cell_type": "code",
   "execution_count": 56,
   "id": "0a0f78f5",
   "metadata": {},
   "outputs": [],
   "source": [
    "# Get the model performance\n",
    "summary_logreg = fit_eval_model(model = lr_clf,\n",
    "                                x_train = X_train_clean,\n",
    "                                y_train = y_train_clean,\n",
    "                                x_valid = X_valid_clean,\n",
    "                                y_valid = y_valid_clean)"
   ]
  },
  {
   "cell_type": "code",
   "execution_count": 57,
   "id": "88fa2658",
   "metadata": {},
   "outputs": [
    {
     "data": {
      "text/html": [
       "<div>\n",
       "<style scoped>\n",
       "    .dataframe tbody tr th:only-of-type {\n",
       "        vertical-align: middle;\n",
       "    }\n",
       "\n",
       "    .dataframe tbody tr th {\n",
       "        vertical-align: top;\n",
       "    }\n",
       "\n",
       "    .dataframe thead th {\n",
       "        text-align: right;\n",
       "    }\n",
       "</style>\n",
       "<table border=\"1\" class=\"dataframe\">\n",
       "  <thead>\n",
       "    <tr style=\"text-align: right;\">\n",
       "      <th></th>\n",
       "      <th>AUC train</th>\n",
       "      <th>AUC valid</th>\n",
       "      <th>Model</th>\n",
       "    </tr>\n",
       "  </thead>\n",
       "  <tbody>\n",
       "    <tr>\n",
       "      <th>0</th>\n",
       "      <td>0.500000</td>\n",
       "      <td>0.50000</td>\n",
       "      <td>Baseline</td>\n",
       "    </tr>\n",
       "    <tr>\n",
       "      <th>1</th>\n",
       "      <td>0.916695</td>\n",
       "      <td>0.90628</td>\n",
       "      <td>Logistic Regression</td>\n",
       "    </tr>\n",
       "  </tbody>\n",
       "</table>\n",
       "</div>"
      ],
      "text/plain": [
       "   AUC train  AUC valid                Model\n",
       "0   0.500000    0.50000             Baseline\n",
       "1   0.916695    0.90628  Logistic Regression"
      ]
     },
     "execution_count": 57,
     "metadata": {},
     "output_type": "execute_result"
    }
   ],
   "source": [
    "# add model name\n",
    "summary_logreg['Model'] = 'Logistic Regression'\n",
    "\n",
    "\n",
    "# concat baseline with logistic regression\n",
    "summary_result = pd.concat([summary_baseline, summary_logreg], \n",
    "                           ignore_index=True)\n",
    "\n",
    "# show \n",
    "summary_result"
   ]
  },
  {
   "cell_type": "markdown",
   "id": "d55e6272-6695-4b2c-bd14-a0917cde24b9",
   "metadata": {},
   "source": [
    "- Our best model is logistic regression model\n",
    "- We can see by looking at the AUC score in train and valid data"
   ]
  },
  {
   "cell_type": "markdown",
   "id": "3353c352-cb96-402d-b3ec-26b24fc3c94e",
   "metadata": {},
   "source": [
    "## 4.3 Finding Threshold\n",
    "---"
   ]
  },
  {
   "cell_type": "markdown",
   "id": "b5bb7ff8-c403-45dd-be8e-699f8c5142c7",
   "metadata": {},
   "source": [
    "**FP & FN**\n",
    "\n",
    "- FP = False Positive, predicted as churn (positive), in fact they're not churner\n",
    "- FN = False Negative, predicted as not churn (negative), in fact they're churner\n",
    "\n",
    "\n",
    "**Recall our cost information**\n",
    "\n",
    "- cost acquisition (cost to acquire new customers) --> \\$50 / customer\n",
    "- cost reactivation (cost to retain existing customers) --> \\$15 / customer\n",
    "\n",
    "**Conclusion**\n",
    "\n",
    "- if we give reactivation treatment to non-churner (FP), we only lose \\$15 per customer\n",
    "- but if we lose a customer (it means we need to acquire), we'll lose $50. \n",
    "- Meaning that it is more risky for people who originally churn but failed to be predicted (or false negative)\n",
    "\n",
    "**Objective**\n",
    "\n",
    "- Minimize False Negative"
   ]
  },
  {
   "cell_type": "markdown",
   "id": "b616b28a-907e-4c70-81e5-b27656b2951f",
   "metadata": {},
   "source": [
    "------\n",
    "- After finding the best model, we need to find the best threshold for our model\n",
    "- We need to find appropriate threshold based on our model objective --> minimize FN or highest TPR\n",
    "- Then we need to set which evaluation metrics suitable for the objective\n",
    "- We choose recall as our objective is minimize False Negative\n",
    "- We need to minimze False Negative because acquire new customers is way more expensive than retaining customers"
   ]
  },
  {
   "cell_type": "code",
   "execution_count": 58,
   "id": "d86b2da2",
   "metadata": {},
   "outputs": [],
   "source": [
    "from sklearn.metrics import recall_score"
   ]
  },
  {
   "cell_type": "code",
   "execution_count": 59,
   "id": "63b67ac7",
   "metadata": {},
   "outputs": [],
   "source": [
    "def get_best_threshold(x_valid, y_valid, model):\n",
    "    \"\"\"\n",
    "    Function to tune & get the best decision threshold\n",
    "    \n",
    "    Parameters\n",
    "    ----------\n",
    "\n",
    "    x_valid, y_valid : pandas dataframe\n",
    "                       valid data (x and y)\n",
    "\n",
    "    model : object\n",
    "            fitted model\n",
    "    \n",
    "    Returns\n",
    "    ------\n",
    "    best_threshold : float\n",
    "                     best threshold for precision score\n",
    "\n",
    "\n",
    "    \"\"\"\n",
    "    # set threshold candidate\n",
    "    thresholds = np.linspace(0, 1, 100)\n",
    "\n",
    "    # Get the prediction probability\n",
    "    y_pred_proba = model.predict_proba(x_valid)[:, 1]\n",
    "\n",
    "    # Initialize\n",
    "    metric_threshold = pd.Series([])\n",
    "\n",
    "    # Optimize\n",
    "    for threshold_value in thresholds:\n",
    "        # Get predictions\n",
    "        y_pred = (y_pred_proba >= threshold_value).astype(int)\n",
    "\n",
    "        # Get the precision score\n",
    "        metric_score = recall_score(y_valid, y_pred, average='macro')\n",
    "\n",
    "        # Add to metric_score\n",
    "        metric_threshold[metric_score] = threshold_value\n",
    "\n",
    "    # Find the threshold @max metric score\n",
    "    metric_score_max_index = metric_threshold.index.max()\n",
    "    best_threshold = metric_threshold[metric_score_max_index]\n",
    "    print('=============================================')\n",
    "    print('Best threshold :', best_threshold)\n",
    "    print('Metric score   :', metric_score_max_index)\n",
    "    print('=============================================')\n",
    "\n",
    "    # Return threshold\n",
    "    return best_threshold"
   ]
  },
  {
   "cell_type": "code",
   "execution_count": 60,
   "id": "0d9236ea",
   "metadata": {},
   "outputs": [
    {
     "name": "stderr",
     "output_type": "stream",
     "text": [
      "C:\\Users\\lenovo\\AppData\\Local\\Temp\\ipykernel_17568\\1592371366.py:28: FutureWarning: The default dtype for empty Series will be 'object' instead of 'float64' in a future version. Specify a dtype explicitly to silence this warning.\n",
      "  metric_threshold = pd.Series([])\n"
     ]
    },
    {
     "name": "stdout",
     "output_type": "stream",
     "text": [
      "=============================================\n",
      "Best threshold : 0.5555555555555556\n",
      "Metric score   : 0.8524215901684709\n",
      "=============================================\n"
     ]
    }
   ],
   "source": [
    "best_threshold = get_best_threshold(x_valid = X_valid_clean,\n",
    "                                    y_valid = y_valid_clean,\n",
    "                                    model = lr_clf)"
   ]
  },
  {
   "cell_type": "code",
   "execution_count": 70,
   "id": "87bfb447",
   "metadata": {},
   "outputs": [
    {
     "data": {
      "text/plain": [
       "0.5555555555555556"
      ]
     },
     "execution_count": 70,
     "metadata": {},
     "output_type": "execute_result"
    }
   ],
   "source": [
    "best_threshold"
   ]
  },
  {
   "cell_type": "code",
   "execution_count": 71,
   "id": "c25d85b6",
   "metadata": {},
   "outputs": [],
   "source": [
    "# CHAT GPT--------------------------------------------------------------------------------------------------------------------\n",
    "from sklearn.metrics import roc_curve"
   ]
  },
  {
   "cell_type": "code",
   "execution_count": 72,
   "id": "8a8b4fc5",
   "metadata": {},
   "outputs": [],
   "source": [
    "def plot_roc_curve(y_true, y_score, threshold=None):\n",
    "    \"\"\"\n",
    "    Plot the Receiver Operating Characteristic (ROC) curve for a binary classification model.\n",
    "\n",
    "    Parameters:\n",
    "    -----------\n",
    "    y_true : pandas series\n",
    "        True binary labels indicating the ground truth.\n",
    "\n",
    "    y_score : pandas series\n",
    "        Target scores or predicted probabilities from the model.\n",
    "\n",
    "    threshold : float or None, optional\n",
    "        Threshold value for marking a specific point on the ROC curve.\n",
    "    \"\"\"\n",
    "\n",
    "    # Calculate sensitivity (TPR) and 1-specificity (FPR) from each possible threshold\n",
    "    fpr, tpr, thresholds = roc_curve(y_true=y_true, y_score=y_score)\n",
    "\n",
    "    # Calculate AUC score\n",
    "    auc = roc_auc_score(y_true=y_true, y_score=y_score)\n",
    "    auc = round(auc, 4)\n",
    "\n",
    "    # Plot ROC curve\n",
    "    plt.plot(fpr, tpr, label=\"AUC Model = \" + str(auc))\n",
    "\n",
    "    if threshold is not None:\n",
    "        # Find the closest threshold index to the specified threshold value\n",
    "        threshold_idx = np.abs(thresholds - threshold).argmin()\n",
    "\n",
    "        # Plot the threshold point on the curve\n",
    "        plt.scatter(fpr[threshold_idx], tpr[threshold_idx], color='red', marker='o')\n",
    "        plt.text(fpr[threshold_idx], tpr[threshold_idx]+0.01, f\"{threshold:.2f}\", fontsize=8, ha='right', va='bottom')\n",
    "\n",
    "        # Extract TPR and FPR values for the specified threshold\n",
    "        tpr_value = tpr[threshold_idx]\n",
    "        fpr_value = fpr[threshold_idx]\n",
    "        print(f\"For Threshold = {threshold:.2f}: TPR = {tpr_value:.4f}, FPR = {fpr_value:.4f}\")\n",
    "\n",
    "    plt.ylabel(\"True Positive Rate (Sensitivity)\")\n",
    "    plt.xlabel(\"False Positive Rate (1 - Specificity)\")\n",
    "    plt.legend(loc=4)\n",
    "    plt.show()"
   ]
  },
  {
   "cell_type": "code",
   "execution_count": 73,
   "id": "2518c8cc",
   "metadata": {},
   "outputs": [],
   "source": [
    "y_valid_prob = lr_clf.predict_proba(X_valid_clean)"
   ]
  },
  {
   "cell_type": "code",
   "execution_count": 75,
   "id": "c72cd7fe",
   "metadata": {},
   "outputs": [
    {
     "name": "stdout",
     "output_type": "stream",
     "text": [
      "For Threshold = 0.56: TPR = 0.8123, FPR = 0.1072\n"
     ]
    },
    {
     "data": {
      "image/png": "[encoded data removed]",
      "text/plain": [
       "<Figure size 432x288 with 1 Axes>"
      ]
     },
     "metadata": {
      "needs_background": "light"
     },
     "output_type": "display_data"
    }
   ],
   "source": [
    "plot_roc_curve(y_true = y_valid_clean,\n",
    "               y_score = y_valid_prob[0:,1],\n",
    "               threshold = best_threshold)"
   ]
  },
  {
   "cell_type": "code",
   "execution_count": 76,
   "id": "eadcf920",
   "metadata": {},
   "outputs": [
    {
     "name": "stdout",
     "output_type": "stream",
     "text": [
      "Testing RESULT:\n",
      "Test Precision Score : 0.8066620879120879\n"
     ]
    }
   ],
   "source": [
    "# Predict probabilities\n",
    "y_test_prob = lr_clf.predict_proba(X_test_clean)[:, 1]\n",
    "\n",
    "# Predict based on the threshold\n",
    "y_test_pred = (y_test_prob >= best_threshold).astype(int)\n",
    "\n",
    "# Print Result\n",
    "print('Testing RESULT:')\n",
    "print(f'Test Precision Score : {recall_score(y_test_clean, y_test_pred)}')"
   ]
  },
  {
   "cell_type": "markdown",
   "id": "2ba07482-bffd-4f1f-8255-b79ba6803596",
   "metadata": {},
   "source": [
    "# 5. Probability Decile Analysis and Gains Chart\n",
    "---"
   ]
  },
  {
   "cell_type": "code",
   "execution_count": 77,
   "id": "082fda30",
   "metadata": {},
   "outputs": [
    {
     "name": "stdout",
     "output_type": "stream",
     "text": [
      "Number of customers : 7415\n"
     ]
    }
   ],
   "source": [
    "# print total number of customers\n",
    "print(f'Number of customers : {X_test_clean.shape[0]}')"
   ]
  },
  {
   "cell_type": "code",
   "execution_count": 80,
   "id": "1ebf647c",
   "metadata": {},
   "outputs": [],
   "source": [
    "# CHAT GPT---------------------------------------------------------------------\n",
    "from sklearn.ensemble import RandomForestClassifier\n",
    "from sklearn.model_selection import RandomizedSearchCV"
   ]
  },
  {
   "cell_type": "code",
   "execution_count": 81,
   "id": "0d5fce70",
   "metadata": {},
   "outputs": [],
   "source": [
    "# CHAT GPT---------------------------------------------------------------------\n",
    "# Assuming X_train_clean and y_train_clean are your training data\n",
    "model = RandomForestClassifier()\n",
    "model.fit(X_train_clean, y_train_clean)\n",
    "\n",
    "# Store the trained model in rd_search\n",
    "rd_search = model"
   ]
  },
  {
   "cell_type": "code",
   "execution_count": 82,
   "id": "7d8ba367",
   "metadata": {},
   "outputs": [],
   "source": [
    "def build_lift_data(model, X, y):\n",
    "    \"\"\"\n",
    "    Build a lift curve based on the given model's predictions.\n",
    "\n",
    "    Parameters\n",
    "    ----------\n",
    "    model : object\n",
    "        The trained model with a `predict_proba` method.\n",
    "\n",
    "    X : array-like or dataframe, shape (n_samples, n_features)\n",
    "        The input features.\n",
    "\n",
    "    y : array-like, shape (n_samples,)\n",
    "        The true target labels.\n",
    "\n",
    "    Returns\n",
    "    -------\n",
    "    pd.DataFrame\n",
    "        DataFrame containing the lift curve analysis at decile level.\n",
    "\n",
    "    \"\"\"\n",
    "    # Step 1: Getting the Model Probabilities\n",
    "    df = pd.concat([X, y], axis=1)\n",
    "    y_pred_prob = model.predict_proba(X)[:, 1]\n",
    "    df['pred_prob'] = y_pred_prob\n",
    "\n",
    "    # Step 2: Create Deciles based on the Model Probabilities\n",
    "    df['P_Rank'] = pd.qcut(df['pred_prob'].rank(method='first').values, 10, duplicates='drop').codes + 1\n",
    "\n",
    "    # Step 3: Summarize the data at Decile Level for Analysis\n",
    "    rank_df = df.groupby('P_Rank')['churn'].agg(['count', 'mean']).sort_values(by='P_Rank', ascending=False)\n",
    "    rank_df.rename(columns={'mean': 'Actual_event_rate'}, inplace=True)\n",
    "\n",
    "    # Step 4: Event Capture Analysis across Probability Deciles\n",
    "    rank_df['N_events'] = rank_df['count'] * rank_df['Actual_event_rate']\n",
    "    rank_df['cum_events'] = rank_df['N_events'].cumsum()\n",
    "    rank_df['event_cap'] = rank_df['N_events'] / max(rank_df['N_events'].cumsum())\n",
    "    rank_df['cum_event_cap'] = rank_df['event_cap'].cumsum()\n",
    "\n",
    "    # Step 5: Non-Event Capture Analysis across Probability Deciles\n",
    "    rank_df['N_non_events'] = rank_df['count'] - rank_df['N_events']\n",
    "    rank_df['cum_non_events'] = rank_df['N_non_events'].cumsum()\n",
    "    rank_df['non_event_cap'] = rank_df['N_non_events'] / max(rank_df['N_non_events'].cumsum())\n",
    "    rank_df['cum_non_event_cap'] = rank_df['non_event_cap'].cumsum()\n",
    "\n",
    "    # Step 6: Compute Lift over Baseline Event Rate\n",
    "    rank_df['Baseline_Event_Rate'] = (max(rank_df['cum_events']) / max(rank_df['count'].cumsum()))\n",
    "    rank_df['Lift_over_Avg'] = rank_df['Actual_event_rate'] / rank_df['Baseline_Event_Rate']\n",
    "\n",
    "    rank_df = rank_df.reset_index()\n",
    "    rank_df['Decile'] = rank_df.index + 1\n",
    "\n",
    "    return rank_df"
   ]
  },
  {
   "cell_type": "code",
   "execution_count": 83,
   "id": "3a31e9a6",
   "metadata": {},
   "outputs": [],
   "source": [
    "rank_df = build_lift_data(model = rd_search, \n",
    "                          X = X_test_clean, \n",
    "                          y = y_test_clean)"
   ]
  },
  {
   "cell_type": "code",
   "execution_count": 84,
   "id": "d70702fb",
   "metadata": {},
   "outputs": [
    {
     "data": {
      "text/html": [
       "<div>\n",
       "<style scoped>\n",
       "    .dataframe tbody tr th:only-of-type {\n",
       "        vertical-align: middle;\n",
       "    }\n",
       "\n",
       "    .dataframe tbody tr th {\n",
       "        vertical-align: top;\n",
       "    }\n",
       "\n",
       "    .dataframe thead th {\n",
       "        text-align: right;\n",
       "    }\n",
       "</style>\n",
       "<table border=\"1\" class=\"dataframe\">\n",
       "  <thead>\n",
       "    <tr style=\"text-align: right;\">\n",
       "      <th></th>\n",
       "      <th>P_Rank</th>\n",
       "      <th>count</th>\n",
       "      <th>Actual_event_rate</th>\n",
       "      <th>N_events</th>\n",
       "      <th>cum_events</th>\n",
       "      <th>event_cap</th>\n",
       "      <th>cum_event_cap</th>\n",
       "      <th>N_non_events</th>\n",
       "      <th>cum_non_events</th>\n",
       "      <th>non_event_cap</th>\n",
       "      <th>cum_non_event_cap</th>\n",
       "      <th>Baseline_Event_Rate</th>\n",
       "      <th>Lift_over_Avg</th>\n",
       "      <th>Decile</th>\n",
       "    </tr>\n",
       "  </thead>\n",
       "  <tbody>\n",
       "    <tr>\n",
       "      <th>0</th>\n",
       "      <td>10</td>\n",
       "      <td>742</td>\n",
       "      <td>1.000000</td>\n",
       "      <td>742.0</td>\n",
       "      <td>742.0</td>\n",
       "      <td>0.254808</td>\n",
       "      <td>0.254808</td>\n",
       "      <td>0.0</td>\n",
       "      <td>0.0</td>\n",
       "      <td>0.000000</td>\n",
       "      <td>0.000000</td>\n",
       "      <td>0.392717</td>\n",
       "      <td>2.546360</td>\n",
       "      <td>1</td>\n",
       "    </tr>\n",
       "    <tr>\n",
       "      <th>1</th>\n",
       "      <td>9</td>\n",
       "      <td>741</td>\n",
       "      <td>0.998650</td>\n",
       "      <td>740.0</td>\n",
       "      <td>1482.0</td>\n",
       "      <td>0.254121</td>\n",
       "      <td>0.508929</td>\n",
       "      <td>1.0</td>\n",
       "      <td>1.0</td>\n",
       "      <td>0.000222</td>\n",
       "      <td>0.000222</td>\n",
       "      <td>0.392717</td>\n",
       "      <td>2.542924</td>\n",
       "      <td>2</td>\n",
       "    </tr>\n",
       "    <tr>\n",
       "      <th>2</th>\n",
       "      <td>8</td>\n",
       "      <td>742</td>\n",
       "      <td>0.995957</td>\n",
       "      <td>739.0</td>\n",
       "      <td>2221.0</td>\n",
       "      <td>0.253777</td>\n",
       "      <td>0.762706</td>\n",
       "      <td>3.0</td>\n",
       "      <td>4.0</td>\n",
       "      <td>0.000666</td>\n",
       "      <td>0.000888</td>\n",
       "      <td>0.392717</td>\n",
       "      <td>2.536065</td>\n",
       "      <td>3</td>\n",
       "    </tr>\n",
       "    <tr>\n",
       "      <th>3</th>\n",
       "      <td>7</td>\n",
       "      <td>741</td>\n",
       "      <td>0.611336</td>\n",
       "      <td>453.0</td>\n",
       "      <td>2674.0</td>\n",
       "      <td>0.155563</td>\n",
       "      <td>0.918269</td>\n",
       "      <td>288.0</td>\n",
       "      <td>292.0</td>\n",
       "      <td>0.063957</td>\n",
       "      <td>0.064846</td>\n",
       "      <td>0.392717</td>\n",
       "      <td>1.556682</td>\n",
       "      <td>4</td>\n",
       "    </tr>\n",
       "    <tr>\n",
       "      <th>4</th>\n",
       "      <td>6</td>\n",
       "      <td>741</td>\n",
       "      <td>0.140351</td>\n",
       "      <td>104.0</td>\n",
       "      <td>2778.0</td>\n",
       "      <td>0.035714</td>\n",
       "      <td>0.953984</td>\n",
       "      <td>637.0</td>\n",
       "      <td>929.0</td>\n",
       "      <td>0.141461</td>\n",
       "      <td>0.206307</td>\n",
       "      <td>0.392717</td>\n",
       "      <td>0.357384</td>\n",
       "      <td>5</td>\n",
       "    </tr>\n",
       "    <tr>\n",
       "      <th>5</th>\n",
       "      <td>5</td>\n",
       "      <td>742</td>\n",
       "      <td>0.084906</td>\n",
       "      <td>63.0</td>\n",
       "      <td>2841.0</td>\n",
       "      <td>0.021635</td>\n",
       "      <td>0.975618</td>\n",
       "      <td>679.0</td>\n",
       "      <td>1608.0</td>\n",
       "      <td>0.150788</td>\n",
       "      <td>0.357095</td>\n",
       "      <td>0.392717</td>\n",
       "      <td>0.216200</td>\n",
       "      <td>6</td>\n",
       "    </tr>\n",
       "    <tr>\n",
       "      <th>6</th>\n",
       "      <td>4</td>\n",
       "      <td>741</td>\n",
       "      <td>0.041835</td>\n",
       "      <td>31.0</td>\n",
       "      <td>2872.0</td>\n",
       "      <td>0.010646</td>\n",
       "      <td>0.986264</td>\n",
       "      <td>710.0</td>\n",
       "      <td>2318.0</td>\n",
       "      <td>0.157673</td>\n",
       "      <td>0.514768</td>\n",
       "      <td>0.392717</td>\n",
       "      <td>0.106528</td>\n",
       "      <td>7</td>\n",
       "    </tr>\n",
       "    <tr>\n",
       "      <th>7</th>\n",
       "      <td>3</td>\n",
       "      <td>742</td>\n",
       "      <td>0.029650</td>\n",
       "      <td>22.0</td>\n",
       "      <td>2894.0</td>\n",
       "      <td>0.007555</td>\n",
       "      <td>0.993819</td>\n",
       "      <td>720.0</td>\n",
       "      <td>3038.0</td>\n",
       "      <td>0.159893</td>\n",
       "      <td>0.674661</td>\n",
       "      <td>0.392717</td>\n",
       "      <td>0.075499</td>\n",
       "      <td>8</td>\n",
       "    </tr>\n",
       "    <tr>\n",
       "      <th>8</th>\n",
       "      <td>2</td>\n",
       "      <td>741</td>\n",
       "      <td>0.018893</td>\n",
       "      <td>14.0</td>\n",
       "      <td>2908.0</td>\n",
       "      <td>0.004808</td>\n",
       "      <td>0.998626</td>\n",
       "      <td>727.0</td>\n",
       "      <td>3765.0</td>\n",
       "      <td>0.161448</td>\n",
       "      <td>0.836109</td>\n",
       "      <td>0.392717</td>\n",
       "      <td>0.048109</td>\n",
       "      <td>9</td>\n",
       "    </tr>\n",
       "    <tr>\n",
       "      <th>9</th>\n",
       "      <td>1</td>\n",
       "      <td>742</td>\n",
       "      <td>0.005391</td>\n",
       "      <td>4.0</td>\n",
       "      <td>2912.0</td>\n",
       "      <td>0.001374</td>\n",
       "      <td>1.000000</td>\n",
       "      <td>738.0</td>\n",
       "      <td>4503.0</td>\n",
       "      <td>0.163891</td>\n",
       "      <td>1.000000</td>\n",
       "      <td>0.392717</td>\n",
       "      <td>0.013727</td>\n",
       "      <td>10</td>\n",
       "    </tr>\n",
       "  </tbody>\n",
       "</table>\n",
       "</div>"
      ],
      "text/plain": [
       "   P_Rank  count  Actual_event_rate  N_events  cum_events  event_cap  \\\n",
       "0      10    742           1.000000     742.0       742.0   0.254808   \n",
       "1       9    741           0.998650     740.0      1482.0   0.254121   \n",
       "2       8    742           0.995957     739.0      2221.0   0.253777   \n",
       "3       7    741           0.611336     453.0      2674.0   0.155563   \n",
       "4       6    741           0.140351     104.0      2778.0   0.035714   \n",
       "5       5    742           0.084906      63.0      2841.0   0.021635   \n",
       "6       4    741           0.041835      31.0      2872.0   0.010646   \n",
       "7       3    742           0.029650      22.0      2894.0   0.007555   \n",
       "8       2    741           0.018893      14.0      2908.0   0.004808   \n",
       "9       1    742           0.005391       4.0      2912.0   0.001374   \n",
       "\n",
       "   cum_event_cap  N_non_events  cum_non_events  non_event_cap  \\\n",
       "0       0.254808           0.0             0.0       0.000000   \n",
       "1       0.508929           1.0             1.0       0.000222   \n",
       "2       0.762706           3.0             4.0       0.000666   \n",
       "3       0.918269         288.0           292.0       0.063957   \n",
       "4       0.953984         637.0           929.0       0.141461   \n",
       "5       0.975618         679.0          1608.0       0.150788   \n",
       "6       0.986264         710.0          2318.0       0.157673   \n",
       "7       0.993819         720.0          3038.0       0.159893   \n",
       "8       0.998626         727.0          3765.0       0.161448   \n",
       "9       1.000000         738.0          4503.0       0.163891   \n",
       "\n",
       "   cum_non_event_cap  Baseline_Event_Rate  Lift_over_Avg  Decile  \n",
       "0           0.000000             0.392717       2.546360       1  \n",
       "1           0.000222             0.392717       2.542924       2  \n",
       "2           0.000888             0.392717       2.536065       3  \n",
       "3           0.064846             0.392717       1.556682       4  \n",
       "4           0.206307             0.392717       0.357384       5  \n",
       "5           0.357095             0.392717       0.216200       6  \n",
       "6           0.514768             0.392717       0.106528       7  \n",
       "7           0.674661             0.392717       0.075499       8  \n",
       "8           0.836109             0.392717       0.048109       9  \n",
       "9           1.000000             0.392717       0.013727      10  "
      ]
     },
     "execution_count": 84,
     "metadata": {},
     "output_type": "execute_result"
    }
   ],
   "source": [
    "rank_df"
   ]
  },
  {
   "cell_type": "markdown",
   "id": "c5e4c8ba-0ac8-4781-acd6-99a5df6ae0bc",
   "metadata": {},
   "source": [
    "## 5.1 Decile Distribution\n",
    "---"
   ]
  },
  {
   "cell_type": "code",
   "execution_count": 85,
   "id": "441f1b07-a554-4dbc-806b-3243e9c0b43e",
   "metadata": {},
   "outputs": [
    {
     "data": {
      "image/png": "[encoded data removed]",
      "text/plain": [
       "<Figure size 576x432 with 1 Axes>"
      ]
     },
     "metadata": {
      "needs_background": "light"
     },
     "output_type": "display_data"
    }
   ],
   "source": [
    "plt.figure(figsize=(8, 6))\n",
    "plt.bar(rank_df['Decile'], rank_df['N_events'])\n",
    "plt.xlabel('Decile')\n",
    "plt.ylabel('Number of Customer Churn (Counts)')\n",
    "plt.title('Decile Distribution')\n",
    "plt.show()"
   ]
  },
  {
   "cell_type": "markdown",
   "id": "61b3363d-3be0-41eb-bb92-da8a5c019f56",
   "metadata": {},
   "source": [
    "- Group decile 1-3 is the top 3 highest number of customer churn\n",
    "- We probably can implement marketing treatment only on the most \"customer churn\" group rather than treat all groups \n",
    "- Remember, our objectives also prevent unnecessary allocation of resources and efforts"
   ]
  },
  {
   "cell_type": "markdown",
   "id": "bc412983-3d6a-4a6b-a349-220935b5de04",
   "metadata": {},
   "source": [
    "## 5.2 Lift Value\n",
    "---"
   ]
  },
  {
   "cell_type": "code",
   "execution_count": 86,
   "id": "d02d26bb-6dee-46c1-b5cb-391c7b437015",
   "metadata": {},
   "outputs": [
    {
     "data": {
      "image/png": "[encoded data removed]",
      "text/plain": [
       "<Figure size 576x432 with 1 Axes>"
      ]
     },
     "metadata": {
      "needs_background": "light"
     },
     "output_type": "display_data"
    }
   ],
   "source": [
    "plt.figure(figsize=(8, 6))\n",
    "plt.plot(rank_df['Decile'], rank_df['Lift_over_Avg'])\n",
    "plt.grid()\n",
    "plt.xlabel('Decile')\n",
    "plt.ylabel('Lift Value')\n",
    "plt.title('Lift Curve')\n",
    "plt.show()\n"
   ]
  },
  {
   "cell_type": "markdown",
   "id": "58734c08-3608-48a8-b39f-9b5ff427e757",
   "metadata": {},
   "source": [
    "- According to the lift value distribution chart, select the groups whose lift value is greater than or equal to 1 as a candidate for promotion to retain them\n",
    "- Groups 1-4 are suitable for implementing promotions for retention (reducing churn and preventing churn)\n",
    "- We set group 1-4 as our target and give them marketing treatment to prevent them from churning"
   ]
  },
  {
   "cell_type": "markdown",
   "id": "555ccc4e-f498-4fd5-bf14-9da4f15ad51e",
   "metadata": {},
   "source": [
    "## 5.3 Cumulative Churn Rate\n",
    "---"
   ]
  },
  {
   "cell_type": "code",
   "execution_count": 87,
   "id": "ca5ade06-f958-4a0f-b136-5cc58a3f7f20",
   "metadata": {},
   "outputs": [
    {
     "data": {
      "image/png": "[encoded data removed]",
      "text/plain": [
       "<Figure size 576x432 with 1 Axes>"
      ]
     },
     "metadata": {
      "needs_background": "light"
     },
     "output_type": "display_data"
    }
   ],
   "source": [
    "plt.figure(figsize=(8, 6))\n",
    "plt.plot(rank_df['Decile'], rank_df['cum_event_cap'])\n",
    "plt.xlabel('Decile')\n",
    "plt.ylabel('Cumulative Churn Rate')\n",
    "plt.grid()\n",
    "plt.title('Cumulative Churn Rate Charts')\n",
    "plt.show()\n"
   ]
  },
  {
   "cell_type": "markdown",
   "id": "e3c9d62d-1df7-42a8-9d63-85421263e842",
   "metadata": {},
   "source": [
    "- Marketers can save the marketing budget and increase marketing initiative targeting for only target around 80% of cumulative churn ration\n",
    "- It means, marketers only need to target group 1-4 in order to reduce most churn cases (80% cumulative churn)\n"
   ]
  },
  {
   "cell_type": "markdown",
   "id": "ba14d79b-ba9c-41fb-8e83-60171b98be2b",
   "metadata": {},
   "source": [
    "# 6. Interpretation & Recommendation\n",
    "----"
   ]
  },
  {
   "cell_type": "markdown",
   "id": "a7c05908-6efe-45cd-bfaa-907948b1c161",
   "metadata": {},
   "source": [
    "- To interpret in terms of odds, we transform the log(odds) into odds.\n",
    "\n",
    "$$\n",
    " \\text {log(odds)} = \\beta_{0}+\\beta_{1}x\n",
    "$$\n",
    "  - Thus,\n",
    "$$\n",
    "\\begin{align*}\n",
    "\\text {odds} &= e^{(\\beta_{0}+\\beta_{1}x)} \\\\\n",
    "&= e^{\\beta_{0}} \\left (e^{\\beta_{1}} \\right )^{x} \\\\\n",
    "\\end{align*}\n",
    "$$\n",
    "<br>\n",
    "  - Interpretation: **the estimated odds of success multiply by $\\text{exp}(\\beta_{1})$ for one unit increase in $x$.**"
   ]
  },
  {
   "cell_type": "markdown",
   "id": "d631ac00-c445-4f01-ae0b-d1840517d8aa",
   "metadata": {},
   "source": [
    "## 6.1 Interpretation\n",
    "---"
   ]
  },
  {
   "cell_type": "code",
   "execution_count": 88,
   "id": "39db831f",
   "metadata": {},
   "outputs": [
    {
     "name": "stderr",
     "output_type": "stream",
     "text": [
      "C:\\Users\\lenovo\\anaconda3\\lib\\site-packages\\sklearn\\model_selection\\_search.py:292: UserWarning: The total space of parameters 8 is smaller than n_iter=10. Running 8 iterations. For exhaustive searches, use GridSearchCV.\n",
      "  warnings.warn(\n",
      "C:\\Users\\lenovo\\anaconda3\\lib\\site-packages\\sklearn\\linear_model\\_logistic.py:814: ConvergenceWarning: lbfgs failed to converge (status=1):\n",
      "STOP: TOTAL NO. of ITERATIONS REACHED LIMIT.\n",
      "\n",
      "Increase the number of iterations (max_iter) or scale the data as shown in:\n",
      "    https://scikit-learn.org/stable/modules/preprocessing.html\n",
      "Please also refer to the documentation for alternative solver options:\n",
      "    https://scikit-learn.org/stable/modules/linear_model.html#logistic-regression\n",
      "  n_iter_i = _check_optimize_result(\n",
      "C:\\Users\\lenovo\\anaconda3\\lib\\site-packages\\sklearn\\linear_model\\_logistic.py:814: ConvergenceWarning: lbfgs failed to converge (status=1):\n",
      "STOP: TOTAL NO. of ITERATIONS REACHED LIMIT.\n",
      "\n",
      "Increase the number of iterations (max_iter) or scale the data as shown in:\n",
      "    https://scikit-learn.org/stable/modules/preprocessing.html\n",
      "Please also refer to the documentation for alternative solver options:\n",
      "    https://scikit-learn.org/stable/modules/linear_model.html#logistic-regression\n",
      "  n_iter_i = _check_optimize_result(\n",
      "C:\\Users\\lenovo\\anaconda3\\lib\\site-packages\\sklearn\\linear_model\\_logistic.py:814: ConvergenceWarning: lbfgs failed to converge (status=1):\n",
      "STOP: TOTAL NO. of ITERATIONS REACHED LIMIT.\n",
      "\n",
      "Increase the number of iterations (max_iter) or scale the data as shown in:\n",
      "    https://scikit-learn.org/stable/modules/preprocessing.html\n",
      "Please also refer to the documentation for alternative solver options:\n",
      "    https://scikit-learn.org/stable/modules/linear_model.html#logistic-regression\n",
      "  n_iter_i = _check_optimize_result(\n",
      "C:\\Users\\lenovo\\anaconda3\\lib\\site-packages\\sklearn\\linear_model\\_logistic.py:814: ConvergenceWarning: lbfgs failed to converge (status=1):\n",
      "STOP: TOTAL NO. of ITERATIONS REACHED LIMIT.\n",
      "\n",
      "Increase the number of iterations (max_iter) or scale the data as shown in:\n",
      "    https://scikit-learn.org/stable/modules/preprocessing.html\n",
      "Please also refer to the documentation for alternative solver options:\n",
      "    https://scikit-learn.org/stable/modules/linear_model.html#logistic-regression\n",
      "  n_iter_i = _check_optimize_result(\n",
      "C:\\Users\\lenovo\\anaconda3\\lib\\site-packages\\sklearn\\linear_model\\_logistic.py:814: ConvergenceWarning: lbfgs failed to converge (status=1):\n",
      "STOP: TOTAL NO. of ITERATIONS REACHED LIMIT.\n",
      "\n",
      "Increase the number of iterations (max_iter) or scale the data as shown in:\n",
      "    https://scikit-learn.org/stable/modules/preprocessing.html\n",
      "Please also refer to the documentation for alternative solver options:\n",
      "    https://scikit-learn.org/stable/modules/linear_model.html#logistic-regression\n",
      "  n_iter_i = _check_optimize_result(\n",
      "C:\\Users\\lenovo\\anaconda3\\lib\\site-packages\\sklearn\\linear_model\\_logistic.py:814: ConvergenceWarning: lbfgs failed to converge (status=1):\n",
      "STOP: TOTAL NO. of ITERATIONS REACHED LIMIT.\n",
      "\n",
      "Increase the number of iterations (max_iter) or scale the data as shown in:\n",
      "    https://scikit-learn.org/stable/modules/preprocessing.html\n",
      "Please also refer to the documentation for alternative solver options:\n",
      "    https://scikit-learn.org/stable/modules/linear_model.html#logistic-regression\n",
      "  n_iter_i = _check_optimize_result(\n",
      "C:\\Users\\lenovo\\anaconda3\\lib\\site-packages\\sklearn\\linear_model\\_logistic.py:814: ConvergenceWarning: lbfgs failed to converge (status=1):\n",
      "STOP: TOTAL NO. of ITERATIONS REACHED LIMIT.\n",
      "\n",
      "Increase the number of iterations (max_iter) or scale the data as shown in:\n",
      "    https://scikit-learn.org/stable/modules/preprocessing.html\n",
      "Please also refer to the documentation for alternative solver options:\n",
      "    https://scikit-learn.org/stable/modules/linear_model.html#logistic-regression\n",
      "  n_iter_i = _check_optimize_result(\n",
      "C:\\Users\\lenovo\\anaconda3\\lib\\site-packages\\sklearn\\linear_model\\_logistic.py:814: ConvergenceWarning: lbfgs failed to converge (status=1):\n",
      "STOP: TOTAL NO. of ITERATIONS REACHED LIMIT.\n",
      "\n",
      "Increase the number of iterations (max_iter) or scale the data as shown in:\n",
      "    https://scikit-learn.org/stable/modules/preprocessing.html\n",
      "Please also refer to the documentation for alternative solver options:\n",
      "    https://scikit-learn.org/stable/modules/linear_model.html#logistic-regression\n",
      "  n_iter_i = _check_optimize_result(\n",
      "C:\\Users\\lenovo\\anaconda3\\lib\\site-packages\\sklearn\\linear_model\\_logistic.py:814: ConvergenceWarning: lbfgs failed to converge (status=1):\n",
      "STOP: TOTAL NO. of ITERATIONS REACHED LIMIT.\n",
      "\n",
      "Increase the number of iterations (max_iter) or scale the data as shown in:\n",
      "    https://scikit-learn.org/stable/modules/preprocessing.html\n",
      "Please also refer to the documentation for alternative solver options:\n",
      "    https://scikit-learn.org/stable/modules/linear_model.html#logistic-regression\n",
      "  n_iter_i = _check_optimize_result(\n",
      "C:\\Users\\lenovo\\anaconda3\\lib\\site-packages\\sklearn\\linear_model\\_logistic.py:814: ConvergenceWarning: lbfgs failed to converge (status=1):\n",
      "STOP: TOTAL NO. of ITERATIONS REACHED LIMIT.\n",
      "\n",
      "Increase the number of iterations (max_iter) or scale the data as shown in:\n",
      "    https://scikit-learn.org/stable/modules/preprocessing.html\n",
      "Please also refer to the documentation for alternative solver options:\n",
      "    https://scikit-learn.org/stable/modules/linear_model.html#logistic-regression\n",
      "  n_iter_i = _check_optimize_result(\n",
      "C:\\Users\\lenovo\\anaconda3\\lib\\site-packages\\sklearn\\linear_model\\_logistic.py:814: ConvergenceWarning: lbfgs failed to converge (status=1):\n",
      "STOP: TOTAL NO. of ITERATIONS REACHED LIMIT.\n",
      "\n",
      "Increase the number of iterations (max_iter) or scale the data as shown in:\n",
      "    https://scikit-learn.org/stable/modules/preprocessing.html\n",
      "Please also refer to the documentation for alternative solver options:\n",
      "    https://scikit-learn.org/stable/modules/linear_model.html#logistic-regression\n",
      "  n_iter_i = _check_optimize_result(\n",
      "C:\\Users\\lenovo\\anaconda3\\lib\\site-packages\\sklearn\\linear_model\\_logistic.py:814: ConvergenceWarning: lbfgs failed to converge (status=1):\n",
      "STOP: TOTAL NO. of ITERATIONS REACHED LIMIT.\n",
      "\n",
      "Increase the number of iterations (max_iter) or scale the data as shown in:\n",
      "    https://scikit-learn.org/stable/modules/preprocessing.html\n",
      "Please also refer to the documentation for alternative solver options:\n",
      "    https://scikit-learn.org/stable/modules/linear_model.html#logistic-regression\n",
      "  n_iter_i = _check_optimize_result(\n",
      "C:\\Users\\lenovo\\anaconda3\\lib\\site-packages\\sklearn\\linear_model\\_logistic.py:814: ConvergenceWarning: lbfgs failed to converge (status=1):\n",
      "STOP: TOTAL NO. of ITERATIONS REACHED LIMIT.\n",
      "\n",
      "Increase the number of iterations (max_iter) or scale the data as shown in:\n",
      "    https://scikit-learn.org/stable/modules/preprocessing.html\n",
      "Please also refer to the documentation for alternative solver options:\n",
      "    https://scikit-learn.org/stable/modules/linear_model.html#logistic-regression\n",
      "  n_iter_i = _check_optimize_result(\n",
      "C:\\Users\\lenovo\\anaconda3\\lib\\site-packages\\sklearn\\linear_model\\_logistic.py:814: ConvergenceWarning: lbfgs failed to converge (status=1):\n",
      "STOP: TOTAL NO. of ITERATIONS REACHED LIMIT.\n",
      "\n",
      "Increase the number of iterations (max_iter) or scale the data as shown in:\n",
      "    https://scikit-learn.org/stable/modules/preprocessing.html\n",
      "Please also refer to the documentation for alternative solver options:\n",
      "    https://scikit-learn.org/stable/modules/linear_model.html#logistic-regression\n",
      "  n_iter_i = _check_optimize_result(\n",
      "C:\\Users\\lenovo\\anaconda3\\lib\\site-packages\\sklearn\\linear_model\\_logistic.py:814: ConvergenceWarning: lbfgs failed to converge (status=1):\n",
      "STOP: TOTAL NO. of ITERATIONS REACHED LIMIT.\n",
      "\n",
      "Increase the number of iterations (max_iter) or scale the data as shown in:\n",
      "    https://scikit-learn.org/stable/modules/preprocessing.html\n",
      "Please also refer to the documentation for alternative solver options:\n",
      "    https://scikit-learn.org/stable/modules/linear_model.html#logistic-regression\n",
      "  n_iter_i = _check_optimize_result(\n",
      "C:\\Users\\lenovo\\anaconda3\\lib\\site-packages\\sklearn\\linear_model\\_logistic.py:814: ConvergenceWarning: lbfgs failed to converge (status=1):\n",
      "STOP: TOTAL NO. of ITERATIONS REACHED LIMIT.\n",
      "\n",
      "Increase the number of iterations (max_iter) or scale the data as shown in:\n",
      "    https://scikit-learn.org/stable/modules/preprocessing.html\n",
      "Please also refer to the documentation for alternative solver options:\n",
      "    https://scikit-learn.org/stable/modules/linear_model.html#logistic-regression\n",
      "  n_iter_i = _check_optimize_result(\n"
     ]
    },
    {
     "name": "stderr",
     "output_type": "stream",
     "text": [
      "C:\\Users\\lenovo\\anaconda3\\lib\\site-packages\\sklearn\\linear_model\\_logistic.py:814: ConvergenceWarning: lbfgs failed to converge (status=1):\n",
      "STOP: TOTAL NO. of ITERATIONS REACHED LIMIT.\n",
      "\n",
      "Increase the number of iterations (max_iter) or scale the data as shown in:\n",
      "    https://scikit-learn.org/stable/modules/preprocessing.html\n",
      "Please also refer to the documentation for alternative solver options:\n",
      "    https://scikit-learn.org/stable/modules/linear_model.html#logistic-regression\n",
      "  n_iter_i = _check_optimize_result(\n",
      "C:\\Users\\lenovo\\anaconda3\\lib\\site-packages\\sklearn\\linear_model\\_logistic.py:814: ConvergenceWarning: lbfgs failed to converge (status=1):\n",
      "STOP: TOTAL NO. of ITERATIONS REACHED LIMIT.\n",
      "\n",
      "Increase the number of iterations (max_iter) or scale the data as shown in:\n",
      "    https://scikit-learn.org/stable/modules/preprocessing.html\n",
      "Please also refer to the documentation for alternative solver options:\n",
      "    https://scikit-learn.org/stable/modules/linear_model.html#logistic-regression\n",
      "  n_iter_i = _check_optimize_result(\n",
      "C:\\Users\\lenovo\\anaconda3\\lib\\site-packages\\sklearn\\linear_model\\_logistic.py:814: ConvergenceWarning: lbfgs failed to converge (status=1):\n",
      "STOP: TOTAL NO. of ITERATIONS REACHED LIMIT.\n",
      "\n",
      "Increase the number of iterations (max_iter) or scale the data as shown in:\n",
      "    https://scikit-learn.org/stable/modules/preprocessing.html\n",
      "Please also refer to the documentation for alternative solver options:\n",
      "    https://scikit-learn.org/stable/modules/linear_model.html#logistic-regression\n",
      "  n_iter_i = _check_optimize_result(\n",
      "C:\\Users\\lenovo\\anaconda3\\lib\\site-packages\\sklearn\\linear_model\\_logistic.py:814: ConvergenceWarning: lbfgs failed to converge (status=1):\n",
      "STOP: TOTAL NO. of ITERATIONS REACHED LIMIT.\n",
      "\n",
      "Increase the number of iterations (max_iter) or scale the data as shown in:\n",
      "    https://scikit-learn.org/stable/modules/preprocessing.html\n",
      "Please also refer to the documentation for alternative solver options:\n",
      "    https://scikit-learn.org/stable/modules/linear_model.html#logistic-regression\n",
      "  n_iter_i = _check_optimize_result(\n",
      "C:\\Users\\lenovo\\anaconda3\\lib\\site-packages\\sklearn\\model_selection\\_validation.py:372: FitFailedWarning: \n",
      "20 fits failed out of a total of 40.\n",
      "The score on these train-test partitions for these parameters will be set to nan.\n",
      "If these failures are not expected, you can try to debug them by setting error_score='raise'.\n",
      "\n",
      "Below are more details about the failures:\n",
      "--------------------------------------------------------------------------------\n",
      "20 fits failed with the following error:\n",
      "Traceback (most recent call last):\n",
      "  File \"C:\\Users\\lenovo\\anaconda3\\lib\\site-packages\\sklearn\\model_selection\\_validation.py\", line 680, in _fit_and_score\n",
      "    estimator.fit(X_train, y_train, **fit_params)\n",
      "  File \"C:\\Users\\lenovo\\anaconda3\\lib\\site-packages\\sklearn\\linear_model\\_logistic.py\", line 1461, in fit\n",
      "    solver = _check_solver(self.solver, self.penalty, self.dual)\n",
      "  File \"C:\\Users\\lenovo\\anaconda3\\lib\\site-packages\\sklearn\\linear_model\\_logistic.py\", line 447, in _check_solver\n",
      "    raise ValueError(\n",
      "ValueError: Solver lbfgs supports only 'l2' or 'none' penalties, got l1 penalty.\n",
      "\n",
      "  warnings.warn(some_fits_failed_message, FitFailedWarning)\n",
      "C:\\Users\\lenovo\\anaconda3\\lib\\site-packages\\sklearn\\model_selection\\_search.py:969: UserWarning: One or more of the test scores are non-finite: [       nan 0.91514975        nan 0.91643871        nan 0.9164744\n",
      "        nan 0.91658864]\n",
      "  warnings.warn(\n",
      "C:\\Users\\lenovo\\anaconda3\\lib\\site-packages\\sklearn\\linear_model\\_logistic.py:814: ConvergenceWarning: lbfgs failed to converge (status=1):\n",
      "STOP: TOTAL NO. of ITERATIONS REACHED LIMIT.\n",
      "\n",
      "Increase the number of iterations (max_iter) or scale the data as shown in:\n",
      "    https://scikit-learn.org/stable/modules/preprocessing.html\n",
      "Please also refer to the documentation for alternative solver options:\n",
      "    https://scikit-learn.org/stable/modules/linear_model.html#logistic-regression\n",
      "  n_iter_i = _check_optimize_result(\n"
     ]
    }
   ],
   "source": [
    "# CHAT GPT----------------------------------------------------------------------------------------------------------------------\n",
    "\n",
    "# Create a LogisticRegression instance\n",
    "logreg_model = LogisticRegression()\n",
    "\n",
    "# Define a grid of hyperparameters to search\n",
    "param_dist = {\n",
    "    'C': [0.01, 0.1, 1, 10],  # Example values for the regularization parameter\n",
    "    'penalty': ['l1', 'l2'],\n",
    "    # Add other hyperparameters as needed\n",
    "}\n",
    "\n",
    "# Perform randomized search over hyperparameters\n",
    "random_search = RandomizedSearchCV(\n",
    "    logreg_model, param_distributions=param_dist, n_iter=10, scoring='roc_auc', cv=5, random_state=42\n",
    ")\n",
    "\n",
    "# Assuming you have defined X_train_clean and y_train_clean\n",
    "random_search.fit(X_train_clean, y_train_clean)\n",
    "\n",
    "# Get the best model from the search\n",
    "best_model = random_search.best_estimator_\n"
   ]
  },
  {
   "cell_type": "code",
   "execution_count": 89,
   "id": "5ab53a60-2113-4af1-b399-a6b028011f8c",
   "metadata": {},
   "outputs": [],
   "source": [
    "def get_coeff(best_model):\n",
    "    \"\"\"\n",
    "    Function to extract coefficient\n",
    "    \n",
    "    Parameters:\n",
    "    -----------\n",
    "    best_model: fitted object model\n",
    "                The best logistic regression model obtained from randomized cross-validation.\n",
    "    Return:\n",
    "    -------\n",
    "    coef_df: pandas dataframe\n",
    "             A DataFrame containing the coefficients and intercept.\n",
    "    \"\"\"\n",
    "    # Extract the coefficients\n",
    "    coefficients = best_model.coef_\n",
    "    intercept = best_model.intercept_\n",
    "\n",
    "    # create df\n",
    "    coef_df = pd.concat([pd.DataFrame(X_train_clean.columns, columns=['Features']), \n",
    "                     pd.DataFrame(coefficients.T, columns=['Coeff'])], axis=1)\n",
    "\n",
    "    coef_df = coef_df.append({\"Coeff\": intercept[0], \"Features\": \"Intercept\"}, ignore_index=True)\n",
    "    \n",
    "    coef_df['Odds'] = np.exp(coef_df['Coeff'])\n",
    "    \n",
    "    return coef_df"
   ]
  },
  {
   "cell_type": "code",
   "execution_count": 90,
   "id": "a4ee2caf-ebf5-490b-8350-0c74a38441bd",
   "metadata": {},
   "outputs": [
    {
     "name": "stderr",
     "output_type": "stream",
     "text": [
      "C:\\Users\\lenovo\\AppData\\Local\\Temp\\ipykernel_17568\\2902316735.py:22: FutureWarning: The frame.append method is deprecated and will be removed from pandas in a future version. Use pandas.concat instead.\n",
      "  coef_df = coef_df.append({\"Coeff\": intercept[0], \"Features\": \"Intercept\"}, ignore_index=True)\n"
     ]
    },
    {
     "data": {
      "text/html": [
       "<div>\n",
       "<style scoped>\n",
       "    .dataframe tbody tr th:only-of-type {\n",
       "        vertical-align: middle;\n",
       "    }\n",
       "\n",
       "    .dataframe tbody tr th {\n",
       "        vertical-align: top;\n",
       "    }\n",
       "\n",
       "    .dataframe thead th {\n",
       "        text-align: right;\n",
       "    }\n",
       "</style>\n",
       "<table border=\"1\" class=\"dataframe\">\n",
       "  <thead>\n",
       "    <tr style=\"text-align: right;\">\n",
       "      <th></th>\n",
       "      <th>Features</th>\n",
       "      <th>Coeff</th>\n",
       "      <th>Odds</th>\n",
       "    </tr>\n",
       "  </thead>\n",
       "  <tbody>\n",
       "    <tr>\n",
       "      <th>0</th>\n",
       "      <td>is_tv_subscriber</td>\n",
       "      <td>-2.373467</td>\n",
       "      <td>0.093157</td>\n",
       "    </tr>\n",
       "    <tr>\n",
       "      <th>1</th>\n",
       "      <td>is_movie_package_subscriber</td>\n",
       "      <td>0.060564</td>\n",
       "      <td>1.062436</td>\n",
       "    </tr>\n",
       "    <tr>\n",
       "      <th>2</th>\n",
       "      <td>subscription_age</td>\n",
       "      <td>-0.276886</td>\n",
       "      <td>0.758141</td>\n",
       "    </tr>\n",
       "    <tr>\n",
       "      <th>3</th>\n",
       "      <td>bill_avg</td>\n",
       "      <td>-0.008621</td>\n",
       "      <td>0.991416</td>\n",
       "    </tr>\n",
       "    <tr>\n",
       "      <th>4</th>\n",
       "      <td>reamining_contract</td>\n",
       "      <td>-2.901357</td>\n",
       "      <td>0.054949</td>\n",
       "    </tr>\n",
       "    <tr>\n",
       "      <th>5</th>\n",
       "      <td>service_failure_count</td>\n",
       "      <td>0.178805</td>\n",
       "      <td>1.195788</td>\n",
       "    </tr>\n",
       "    <tr>\n",
       "      <th>6</th>\n",
       "      <td>download_avg</td>\n",
       "      <td>-0.011906</td>\n",
       "      <td>0.988165</td>\n",
       "    </tr>\n",
       "    <tr>\n",
       "      <th>7</th>\n",
       "      <td>upload_avg</td>\n",
       "      <td>-0.078894</td>\n",
       "      <td>0.924138</td>\n",
       "    </tr>\n",
       "    <tr>\n",
       "      <th>8</th>\n",
       "      <td>download_over_limit</td>\n",
       "      <td>0.695248</td>\n",
       "      <td>2.004205</td>\n",
       "    </tr>\n",
       "    <tr>\n",
       "      <th>9</th>\n",
       "      <td>Intercept</td>\n",
       "      <td>4.817533</td>\n",
       "      <td>123.659666</td>\n",
       "    </tr>\n",
       "  </tbody>\n",
       "</table>\n",
       "</div>"
      ],
      "text/plain": [
       "                      Features     Coeff        Odds\n",
       "0             is_tv_subscriber -2.373467    0.093157\n",
       "1  is_movie_package_subscriber  0.060564    1.062436\n",
       "2             subscription_age -0.276886    0.758141\n",
       "3                     bill_avg -0.008621    0.991416\n",
       "4           reamining_contract -2.901357    0.054949\n",
       "5        service_failure_count  0.178805    1.195788\n",
       "6                 download_avg -0.011906    0.988165\n",
       "7                   upload_avg -0.078894    0.924138\n",
       "8          download_over_limit  0.695248    2.004205\n",
       "9                    Intercept  4.817533  123.659666"
      ]
     },
     "execution_count": 90,
     "metadata": {},
     "output_type": "execute_result"
    }
   ],
   "source": [
    "get_coeff(best_model)"
   ]
  },
  {
   "cell_type": "markdown",
   "id": "4659eb20-635e-4850-875e-81a2716adeb7",
   "metadata": {},
   "source": [
    "## 6.2 Recommendation\n",
    "---"
   ]
  },
  {
   "cell_type": "markdown",
   "id": "15d9cdf2-5ef6-4f5f-abb0-b27fb36d2d5a",
   "metadata": {},
   "source": [
    "`Intercept` :\n",
    "\n",
    "- Estimated odds of a customer will churn when all variable equal to 0 is 4.817533\n",
    "- In simply term, if we do nothing, the estimated odds for customer churn is a 123.659666"
   ]
  },
  {
   "cell_type": "markdown",
   "id": "39fde673-67fb-4460-a12f-c5f79315793d",
   "metadata": {},
   "source": [
    "`download_over_limit`\n",
    "- This variable represents the count of internet usage instances exceeding the customer's limit\n",
    "- The estimated odds for customer churn is a  2.004205\n",
    "- **Recommendation**: Help customers manage their internet usage within the limits and prevent bill shocks.\n",
    "- **Initiative**: Provide usage alerts, offer data management tools, and suggest appropriate data plans based on usage patterns."
   ]
  },
  {
   "cell_type": "markdown",
   "id": "797a9774-4866-40b8-8c67-a5f7a478bb48",
   "metadata": {},
   "source": [
    "`service_failure_count`:\n",
    "- This variable represents the number of calls to the Call Center for service failure in the last three months. \n",
    "- The coefficient value is 0.178805, The estimated odds for customer churn is 1.195788\n",
    "- **Recommendation**: Improve service quality and address customer service issues promptly.\n",
    "- **Initiative**: Identify and address common service failure issues, enhance customer support channels, and implement proactive service monitoring and troubleshooting."
   ]
  },
  {
   "cell_type": "markdown",
   "id": "96f44f30-54bc-4f97-a20c-63a51d04f247",
   "metadata": {},
   "source": [
    "## 6.3 **Summary**\n",
    "---"
   ]
  },
  {
   "cell_type": "markdown",
   "id": "897a7a38-7eee-4f30-bc14-8e1aa109453d",
   "metadata": {},
   "source": [
    "Given\n",
    "- marketers only need to target group 1-4 in order to reduce most churn cases (80% cumulative churn)\n",
    "- Number of customer included in this retention campaign: (approx) 2966\n",
    "- Cost for retaining each customer \\$15\n",
    "\n",
    "How to prevent unnecessary allocation?\n",
    "\n",
    "- It means we only need 15*2966 or arround \\$44,490 budget to treat these customers (Using recommendation above)\n",
    "- We save \\$5510 to spend in marketing budget\n",
    "\n",
    "\n",
    "How to reduce 30% churn? we need assumption to answer this\n",
    "- With assumption **80% effectiveness** of the campaign, we can prevent 2373 customers from churning\n",
    "- Remeber we have 54% proportion of churn customers, now we have arround 32% customer churn, it means the percentage reduction from 54% to 32% is approximately 40.74%."
   ]
  }
 ],
 "metadata": {
  "kernelspec": {
   "display_name": "Python 3 (ipykernel)",
   "language": "python",
   "name": "python3"
  },
  "language_info": {
   "codemirror_mode": {
    "name": "ipython",
    "version": 3
   },
   "file_extension": ".py",
   "mimetype": "text/x-python",
   "name": "python",
   "nbconvert_exporter": "python",
   "pygments_lexer": "ipython3",
   "version": "3.9.12"
  }
 },
 "nbformat": 4,
 "nbformat_minor": 5
}
