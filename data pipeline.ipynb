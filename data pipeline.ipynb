{
 "cells": [
  {
   "cell_type": "code",
   "execution_count": 2,
   "id": "0f2d2f31",
   "metadata": {},
   "outputs": [],
   "source": [
    "#Load data manipulation package\n",
    "import numpy as np\n",
    "import pandas as pd\n",
    "\n",
    "#Data dumb store\n",
    "import joblib"
   ]
  },
  {
   "cell_type": "markdown",
   "id": "01fdd08a",
   "metadata": {},
   "source": [
    "# 1. Business Understanding\n",
    "---"
   ]
  },
  {
   "cell_type": "markdown",
   "id": "18d9bf09",
   "metadata": {},
   "source": [
    "- Knowing customer churn is essential for internet provider company for effectively prevent them using appropriate marketing initiative\n",
    "- Internet provider company wants to give specific marketing initiative for preventing customer churn"
   ]
  },
  {
   "cell_type": "markdown",
   "id": "58f736a3",
   "metadata": {},
   "source": [
    "## 1.1 Business Objective\n",
    "---"
   ]
  },
  {
   "cell_type": "markdown",
   "id": "f7a59e83",
   "metadata": {},
   "source": [
    "- Reduce 30% customer churn in the next period year \n",
    "- Identify the relationship between predictors and target variable\n",
    "- company wants to prevent unnecessary allocation of resources and efforts towards non-churn customers (they set threshold maximum allowed false positives is 20%)"
   ]
  },
  {
   "cell_type": "markdown",
   "id": "e626d4a8",
   "metadata": {},
   "source": [
    "## 1.2 Business Questions\n",
    "---"
   ]
  },
  {
   "cell_type": "markdown",
   "id": "6ebf09c7",
   "metadata": {},
   "source": [
    "- How can internet provider company develop marketing effectiveness strategy to increase reduce 30% of churn?\n",
    "- What marketing initiatives are suitable to reduce the 30% customer churn?\n",
    "- How to prevent unnecessary budget allocation?"
   ]
  },
  {
   "cell_type": "markdown",
   "id": "91a13f97",
   "metadata": {},
   "source": [
    "## 1.3 Modelling Task\n",
    "---"
   ]
  },
  {
   "cell_type": "markdown",
   "id": "0e24ac3d",
   "metadata": {},
   "source": [
    "- Output target: **customer status of churn (categorical)**\n",
    "\n",
    "\n",
    "- The goal of this project is to predict whether a customer will churn or not based on various features.\n",
    "Task: **Classification task**\n",
    "\n",
    "\n",
    "- We need a model that can be easily interpreted so that we can understand how each feature contributes to the prediction. This can help us gain insights into the underlying factors that influence whether a customer will churn or not.\n",
    "Model used: **Logistic regression**\n",
    "\n",
    "\n",
    "- We will use ROC/AUC as our evaluation metric since we want it's not influeced by imbalance target and we need to measure threshold using ROC/AUC. **Evaluation metric: ROC/AUC**"
   ]
  },
  {
   "cell_type": "markdown",
   "id": "38cb83a4",
   "metadata": {},
   "source": [
    "# 2. Modelling Workflow\n",
    "---"
   ]
  },
  {
   "cell_type": "markdown",
   "id": "b465d7d0",
   "metadata": {},
   "source": [
    "## **Machine Learning Workflow** (Simplified)\n",
    "\n",
    "### 1. <font color='blue'> Importing Data to Python:\n",
    "    * Data description, Importing data, Data splitting\n",
    "    \n",
    "### 2. <font color='blue'> Exploratory Data Analysis:\n",
    "    *Descriptive statistic, Missing value checking, Data exploration\n",
    "    \n",
    "### 3. <font color='blue'> Prepocessing:\n",
    "    * Missing value handling, Outliers handling\n",
    "\n",
    "### 4. <font color='blue'> Modelling:\n",
    "    * Model fitting, Evaluation\n",
    "    \n",
    "### 5. <font color='blue'> Lift Chart & Interpretation:\n",
    "    * Targetting customer churn, Coeficient interpretation"
   ]
  },
  {
   "cell_type": "markdown",
   "id": "9b571247",
   "metadata": {},
   "source": [
    "# 3. Load Data\n",
    "---"
   ]
  },
  {
   "cell_type": "markdown",
   "id": "b6d8b227",
   "metadata": {},
   "source": [
    "- We want to describe our features and target feature\n",
    "- Load the data from specific path"
   ]
  },
  {
   "cell_type": "markdown",
   "id": "8d416904",
   "metadata": {},
   "source": [
    "## 3.1 Data Description\n",
    "---"
   ]
  },
  {
   "cell_type": "markdown",
   "id": "7b154d42",
   "metadata": {},
   "source": [
    "The potential **predictors** for the response variable are:\n",
    "1. `is_tv_subscriber`\n",
    " - `is_tv_subscriber = 0` for the customers who didn't subscribe to the TV package or only subscribe to the internet package.\n",
    "  - `is_tv_subscriber = 1` for the customers who subscribe to the TV package.\n",
    "\n",
    "\n",
    "2. `is_movie_package_subscriber`\n",
    "  - `is_movie_package_subscriber = 0` for the customers who didn't subscribe to the movie package or only subscribe to the internet package.\n",
    "  - `is_movie_package_subscriber = 1` for the customers who subscribe to the movie package.\n",
    "\n",
    "\n",
    "3. `subscription_age` is the years of customer using the internet service.\n",
    "4. `bill_avg` is the last three months' bill average.\n",
    "5. `remaining_contract` is the year remaining for the customer's subscription contract. If null, the customer hasn't had a contract.\n",
    "6. `service_failure_count` is the number of calls to the Call Center for service failure for the last three months.\n",
    "7. `download_avg` is the last three months internet usage in GB.\n",
    "8. `upload_avg` is the last three months upload in GB.\n",
    "9. `download_over_limit` is the count of the internet usage over the customer's limit.\n",
    "\n",
    "**Target variable**:\n",
    "- `churn`\n",
    "  - `churn = 0` for the customers who retain.\n",
    "  - `churn = 1` for the customers who cancel their subscription before the contract ends or the customers who didn't renew their subscription after the contract ended."
   ]
  },
  {
   "cell_type": "markdown",
   "id": "4cb7096a",
   "metadata": {},
   "source": [
    "## 3.2 Importing Data\n",
    "---"
   ]
  },
  {
   "cell_type": "code",
   "execution_count": 25,
   "id": "2b7984c0",
   "metadata": {},
   "outputs": [],
   "source": [
    "# Read dataset function\n",
    "def read_data(path):\n",
    "    \n",
    "    # 1. Read data\n",
    "    data = pd.read_csv(path,\n",
    "                      index_col = 0,\n",
    "                      low_memory = False)\n",
    "    \n",
    "    # 2. Drop diplicates\n",
    "    data = data.drop_duplicates()\n",
    "    \n",
    "    # 3. Reset index\n",
    "    data = data.reset_index(drop=True)\n",
    "    \n",
    "    # 4. Print data shape\n",
    "    print('Data shape :', data.shape)\n",
    "    \n",
    "    return data"
   ]
  },
  {
   "cell_type": "code",
   "execution_count": 5,
   "id": "6831635c",
   "metadata": {},
   "outputs": [],
   "source": [
    "path = 'data/raw/internet_service_churn.csv'"
   ]
  },
  {
   "cell_type": "code",
   "execution_count": 26,
   "id": "bb3badfa",
   "metadata": {},
   "outputs": [
    {
     "name": "stdout",
     "output_type": "stream",
     "text": [
      "Data shape : (70124, 11)\n"
     ]
    }
   ],
   "source": [
    "# Read data\n",
    "data = read_data(path)"
   ]
  },
  {
   "cell_type": "code",
   "execution_count": 27,
   "id": "4ab06a6a",
   "metadata": {},
   "outputs": [
    {
     "data": {
      "text/html": [
       "<div>\n",
       "<style scoped>\n",
       "    .dataframe tbody tr th:only-of-type {\n",
       "        vertical-align: middle;\n",
       "    }\n",
       "\n",
       "    .dataframe tbody tr th {\n",
       "        vertical-align: top;\n",
       "    }\n",
       "\n",
       "    .dataframe thead th {\n",
       "        text-align: right;\n",
       "    }\n",
       "</style>\n",
       "<table border=\"1\" class=\"dataframe\">\n",
       "  <thead>\n",
       "    <tr style=\"text-align: right;\">\n",
       "      <th></th>\n",
       "      <th>id</th>\n",
       "      <th>is_tv_subscriber</th>\n",
       "      <th>is_movie_package_subscriber</th>\n",
       "      <th>subscription_age</th>\n",
       "      <th>bill_avg</th>\n",
       "      <th>reamining_contract</th>\n",
       "      <th>service_failure_count</th>\n",
       "      <th>download_avg</th>\n",
       "      <th>upload_avg</th>\n",
       "      <th>download_over_limit</th>\n",
       "      <th>churn</th>\n",
       "    </tr>\n",
       "  </thead>\n",
       "  <tbody>\n",
       "    <tr>\n",
       "      <th>0</th>\n",
       "      <td>15</td>\n",
       "      <td>1</td>\n",
       "      <td>0</td>\n",
       "      <td>11.95</td>\n",
       "      <td>25</td>\n",
       "      <td>0.14</td>\n",
       "      <td>0</td>\n",
       "      <td>8.4</td>\n",
       "      <td>2.3</td>\n",
       "      <td>0</td>\n",
       "      <td>0</td>\n",
       "    </tr>\n",
       "    <tr>\n",
       "      <th>1</th>\n",
       "      <td>18</td>\n",
       "      <td>0</td>\n",
       "      <td>0</td>\n",
       "      <td>8.22</td>\n",
       "      <td>0</td>\n",
       "      <td>NaN</td>\n",
       "      <td>0</td>\n",
       "      <td>0.0</td>\n",
       "      <td>0.0</td>\n",
       "      <td>0</td>\n",
       "      <td>1</td>\n",
       "    </tr>\n",
       "    <tr>\n",
       "      <th>2</th>\n",
       "      <td>23</td>\n",
       "      <td>1</td>\n",
       "      <td>0</td>\n",
       "      <td>8.91</td>\n",
       "      <td>16</td>\n",
       "      <td>0.00</td>\n",
       "      <td>0</td>\n",
       "      <td>13.7</td>\n",
       "      <td>0.9</td>\n",
       "      <td>0</td>\n",
       "      <td>1</td>\n",
       "    </tr>\n",
       "    <tr>\n",
       "      <th>3</th>\n",
       "      <td>27</td>\n",
       "      <td>0</td>\n",
       "      <td>0</td>\n",
       "      <td>6.87</td>\n",
       "      <td>21</td>\n",
       "      <td>NaN</td>\n",
       "      <td>1</td>\n",
       "      <td>0.0</td>\n",
       "      <td>0.0</td>\n",
       "      <td>0</td>\n",
       "      <td>1</td>\n",
       "    </tr>\n",
       "    <tr>\n",
       "      <th>4</th>\n",
       "      <td>34</td>\n",
       "      <td>0</td>\n",
       "      <td>0</td>\n",
       "      <td>6.39</td>\n",
       "      <td>0</td>\n",
       "      <td>NaN</td>\n",
       "      <td>0</td>\n",
       "      <td>0.0</td>\n",
       "      <td>0.0</td>\n",
       "      <td>0</td>\n",
       "      <td>1</td>\n",
       "    </tr>\n",
       "  </tbody>\n",
       "</table>\n",
       "</div>"
      ],
      "text/plain": [
       "   id  is_tv_subscriber  is_movie_package_subscriber  subscription_age  \\\n",
       "0  15                 1                            0             11.95   \n",
       "1  18                 0                            0              8.22   \n",
       "2  23                 1                            0              8.91   \n",
       "3  27                 0                            0              6.87   \n",
       "4  34                 0                            0              6.39   \n",
       "\n",
       "   bill_avg  reamining_contract  service_failure_count  download_avg  \\\n",
       "0        25                0.14                      0           8.4   \n",
       "1         0                 NaN                      0           0.0   \n",
       "2        16                0.00                      0          13.7   \n",
       "3        21                 NaN                      1           0.0   \n",
       "4         0                 NaN                      0           0.0   \n",
       "\n",
       "   upload_avg  download_over_limit  churn  \n",
       "0         2.3                    0      0  \n",
       "1         0.0                    0      1  \n",
       "2         0.9                    0      1  \n",
       "3         0.0                    0      1  \n",
       "4         0.0                    0      1  "
      ]
     },
     "execution_count": 27,
     "metadata": {},
     "output_type": "execute_result"
    }
   ],
   "source": [
    "data.head()"
   ]
  },
  {
   "cell_type": "code",
   "execution_count": 28,
   "id": "c0441325",
   "metadata": {},
   "outputs": [
    {
     "data": {
      "text/plain": [
       "id                               int64\n",
       "is_tv_subscriber                 int64\n",
       "is_movie_package_subscriber      int64\n",
       "subscription_age               float64\n",
       "bill_avg                         int64\n",
       "reamining_contract             float64\n",
       "service_failure_count            int64\n",
       "download_avg                   float64\n",
       "upload_avg                     float64\n",
       "download_over_limit              int64\n",
       "churn                            int64\n",
       "dtype: object"
      ]
     },
     "execution_count": 28,
     "metadata": {},
     "output_type": "execute_result"
    }
   ],
   "source": [
    "data.dtypes"
   ]
  },
  {
   "cell_type": "code",
   "execution_count": 31,
   "id": "451241c6",
   "metadata": {},
   "outputs": [
    {
     "name": "stdout",
     "output_type": "stream",
     "text": [
      "Number of duplicated data: 0\n"
     ]
    }
   ],
   "source": [
    "print(f\"Number of duplicated data: {data.duplicated().sum()}\")"
   ]
  },
  {
   "cell_type": "markdown",
   "id": "127359b6",
   "metadata": {},
   "source": [
    "# 4. Data Splitting\n",
    "---"
   ]
  },
  {
   "cell_type": "code",
   "execution_count": 32,
   "id": "00442936",
   "metadata": {},
   "outputs": [],
   "source": [
    "# function split input and output\n",
    "def split_input_output(data, target_column):\n",
    "    \"\"\"\n",
    "    Function to split input (x) and output (y)\n",
    "\n",
    "    Parameters\n",
    "    ----------\n",
    "    data: <pandas dataframe>\n",
    "          dataframe input\n",
    "\n",
    "    target_column: <string>\n",
    "                   output column name\n",
    "\n",
    "    Return\n",
    "    ------\n",
    "\n",
    "    x: <pandas dataframe>\n",
    "        input data\n",
    "\n",
    "    y: <pandas dataframe>\n",
    "       output data\n",
    "\n",
    "    \"\"\"\n",
    "    X = data.drop(columns = target_column)\n",
    "    y = data[target_column]\n",
    "\n",
    "    return X, y"
   ]
  },
  {
   "cell_type": "code",
   "execution_count": 33,
   "id": "6e723bff",
   "metadata": {},
   "outputs": [],
   "source": [
    "# split input output\n",
    "X, y = split_input_output(data = data, \n",
    "                          target_column = 'churn')"
   ]
  },
  {
   "cell_type": "code",
   "execution_count": 34,
   "id": "6bb21371",
   "metadata": {},
   "outputs": [
    {
     "name": "stdout",
     "output_type": "stream",
     "text": [
      "Number of samples  :    70124\n",
      "Number of features :    10\n"
     ]
    }
   ],
   "source": [
    "# Check data dimension\n",
    "n_samples, n_features = X.shape\n",
    "\n",
    "# Print number of samples and features\n",
    "print(f'Number of samples  :    {n_samples}')\n",
    "print(f'Number of features :    {n_features}')"
   ]
  },
  {
   "cell_type": "code",
   "execution_count": 35,
   "id": "fcaa0830",
   "metadata": {},
   "outputs": [],
   "source": [
    "# Import train test split\n",
    "from sklearn.model_selection import train_test_split\n",
    "\n",
    "\n",
    "\n",
    "# Train and Test Split\n",
    "X_train, X_test, y_train, y_test = train_test_split(X,\n",
    "                                                    y,\n",
    "                                                    test_size = 0.3,\n",
    "                                                    random_state = 31,\n",
    "                                                    stratify = y)\n",
    "\n",
    "\n",
    "# Test and Valid Split\n",
    "X_valid, X_test, y_valid, y_test = train_test_split(X_test,\n",
    "                                                    y_test,\n",
    "                                                    test_size = 0.5,\n",
    "                                                    random_state = 31,\n",
    "                                                    stratify = y_test)"
   ]
  },
  {
   "cell_type": "code",
   "execution_count": 36,
   "id": "a3027ea6",
   "metadata": {},
   "outputs": [
    {
     "name": "stdout",
     "output_type": "stream",
     "text": [
      "X_train shape : (49086, 10)\n",
      "X_valid shape : (10519, 10)\n",
      "X_test shape : (10519, 10)\n",
      "y_train shape : (49086,)\n",
      "y_valid shape : (10519,)\n",
      "y_test shape : (10519,)\n"
     ]
    }
   ],
   "source": [
    "print(f\"X_train shape : {X_train.shape}\")\n",
    "print(f\"X_valid shape : {X_valid.shape}\")\n",
    "print(f\"X_test shape : {X_test.shape}\")\n",
    "print(f\"y_train shape : {y_train.shape}\")\n",
    "print(f\"y_valid shape : {y_valid.shape}\")\n",
    "print(f\"y_test shape : {y_test.shape}\")"
   ]
  },
  {
   "cell_type": "code",
   "execution_count": 37,
   "id": "0facbf00",
   "metadata": {},
   "outputs": [
    {
     "data": {
      "text/plain": [
       "['data/raw/y_test.pkl']"
      ]
     },
     "execution_count": 37,
     "metadata": {},
     "output_type": "execute_result"
    }
   ],
   "source": [
    "# dumb the data\n",
    "joblib.dump(X_train, \"data/raw/X_train.pkl\")\n",
    "joblib.dump(y_train, \"data/raw/y_train.pkl\")\n",
    "joblib.dump(X_valid, \"data/raw/X_valid.pkl\")\n",
    "joblib.dump(y_valid, \"data/raw/y_valid.pkl\")\n",
    "joblib.dump(X_test, \"data/raw/X_test.pkl\")\n",
    "joblib.dump(y_test, \"data/raw/y_test.pkl\")"
   ]
  },
  {
   "cell_type": "code",
   "execution_count": null,
   "id": "399ad9d9",
   "metadata": {},
   "outputs": [],
   "source": []
  }
 ],
 "metadata": {
  "kernelspec": {
   "display_name": "Python 3 (ipykernel)",
   "language": "python",
   "name": "python3"
  },
  "language_info": {
   "codemirror_mode": {
    "name": "ipython",
    "version": 3
   },
   "file_extension": ".py",
   "mimetype": "text/x-python",
   "name": "python",
   "nbconvert_exporter": "python",
   "pygments_lexer": "ipython3",
   "version": "3.9.12"
  }
 },
 "nbformat": 4,
 "nbformat_minor": 5
}
