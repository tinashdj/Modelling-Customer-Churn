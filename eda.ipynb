{
 "cells": [
  {
   "cell_type": "code",
   "execution_count": 1,
   "id": "e8160813",
   "metadata": {},
   "outputs": [],
   "source": [
    "#Load data manipulation package\n",
    "import numpy as np\n",
    "import pandas as pd\n",
    "\n",
    "#Load data visualization package\n",
    "import matplotlib.pyplot as plt\n",
    "import seaborn as sns\n",
    "\n",
    "#Data dumb store\n",
    "import joblib"
   ]
  },
  {
   "cell_type": "markdown",
   "id": "5c661825",
   "metadata": {},
   "source": [
    "# 1. Business Understanding\n",
    "---"
   ]
  },
  {
   "cell_type": "markdown",
   "id": "495e7a61",
   "metadata": {},
   "source": [
    "- Knowing customer churn is essential for internet provider company for effectively prevent them using appropriate marketing initiative\n",
    "- Internet provider company wants to give specific marketing initiative for preventing customer churn"
   ]
  },
  {
   "cell_type": "markdown",
   "id": "1101f740",
   "metadata": {},
   "source": [
    "## 1.2 Business Questions\n",
    "---"
   ]
  },
  {
   "cell_type": "markdown",
   "id": "72c22ede",
   "metadata": {},
   "source": [
    "- How can internet provider company develop marketing effectiveness strategy to increase reduce 30% of churn?\n",
    "- What marketing initiatives are suitable to reduce the 30% customer churn?\n",
    "- How to prevent unnecessary budget allocation?"
   ]
  },
  {
   "cell_type": "markdown",
   "id": "c894206a",
   "metadata": {},
   "source": [
    "## 1.3 Modelling Task\n",
    "---"
   ]
  },
  {
   "cell_type": "markdown",
   "id": "c58f512b",
   "metadata": {},
   "source": [
    "- Output target: **customer status of churn (categorical)**\n",
    "\n",
    "\n",
    "- The goal of this project is to predict whether a customer will churn or not based on various features.\n",
    "Task: **Classification task**\n",
    "\n",
    "\n",
    "- We need a model that can be easily interpreted so that we can understand how each feature contributes to the prediction. This can help us gain insights into the underlying factors that influence whether a customer will churn or not.\n",
    "Model used: **Logistic regression**\n",
    "\n",
    "\n",
    "- We will use ROC/AUC as our evaluation metric since we want it's not influeced by imbalance target and we need to measure threshold using ROC/AUC. **Evaluation metric: ROC/AUC**"
   ]
  },
  {
   "cell_type": "markdown",
   "id": "3778beec",
   "metadata": {},
   "source": [
    "# 2. Modelling Workflow\n",
    "---"
   ]
  },
  {
   "cell_type": "markdown",
   "id": "b695ddfe",
   "metadata": {},
   "source": [
    "## **Machine Learning Workflow** (Simplified)\n",
    "\n",
    "### 1. <font color='blue'> Importing Data to Python:\n",
    "    * Data description, Importing data, Data splitting\n",
    "    \n",
    "### 2. <font color='blue'> Exploratory Data Analysis:\n",
    "    *Descriptive statistic, Missing value checking, Data exploration\n",
    "    \n",
    "### 3. <font color='blue'> Prepocessing:\n",
    "    * Missing value handling, Outliers handling\n",
    "\n",
    "### 4. <font color='blue'> Modelling:\n",
    "    * Model fitting, Evaluation\n",
    "    \n",
    "### 5. <font color='blue'> Lift Chart & Interpretation:\n",
    "    * Targetting customer churn, Coeficient interpretation"
   ]
  },
  {
   "cell_type": "markdown",
   "id": "a44241cd",
   "metadata": {},
   "source": [
    "# 3. Load Data\n",
    "---"
   ]
  },
  {
   "cell_type": "markdown",
   "id": "955ec5c7",
   "metadata": {},
   "source": [
    "- We want to describe our features and target feature\n",
    "- Load the data from specific path"
   ]
  },
  {
   "cell_type": "markdown",
   "id": "4fe096a2",
   "metadata": {},
   "source": [
    "## 3.1 Data Description\n",
    "---"
   ]
  },
  {
   "cell_type": "markdown",
   "id": "d7dc2aa3",
   "metadata": {},
   "source": [
    "The potential **predictors** for the response variable are:\n",
    "1. `is_tv_subscriber`\n",
    " - `is_tv_subscriber = 0` for the customers who didn't subscribe to the TV package or only subscribe to the internet package.\n",
    "  - `is_tv_subscriber = 1` for the customers who subscribe to the TV package.\n",
    "\n",
    "\n",
    "2. `is_movie_package_subscriber`\n",
    "  - `is_movie_package_subscriber = 0` for the customers who didn't subscribe to the movie package or only subscribe to the internet package.\n",
    "  - `is_movie_package_subscriber = 1` for the customers who subscribe to the movie package.\n",
    "\n",
    "\n",
    "3. `subscription_age` is the years of customer using the internet service.\n",
    "4. `bill_avg` is the last three months' bill average.\n",
    "5. `remaining_contract` is the year remaining for the customer's subscription contract. If null, the customer hasn't had a contract.\n",
    "6. `service_failure_count` is the number of calls to the Call Center for service failure for the last three months.\n",
    "7. `download_avg` is the last three months internet usage in GB.\n",
    "8. `upload_avg` is the last three months upload in GB.\n",
    "9. `download_over_limit` is the count of the internet usage over the customer's limit.\n",
    "\n",
    "**Target variable**:\n",
    "- `churn`\n",
    "  - `churn = 0` for the customers who retain.\n",
    "  - `churn = 1` for the customers who cancel their subscription before the contract ends or the customers who didn't renew their subscription after the contract ended."
   ]
  },
  {
   "cell_type": "markdown",
   "id": "e8de5c99",
   "metadata": {},
   "source": [
    "## 3.2 Importing Data\n",
    "---"
   ]
  },
  {
   "cell_type": "code",
   "execution_count": 2,
   "id": "ab6a0c97",
   "metadata": {},
   "outputs": [],
   "source": [
    "X_train = joblib.load(\"data/raw/x_train.pkl\")\n",
    "y_train = joblib.load(\"data/raw/y_train.pkl\")"
   ]
  },
  {
   "cell_type": "markdown",
   "id": "d3280e1f",
   "metadata": {},
   "source": [
    "# 4. Exploratory Data Analysis\n",
    "---"
   ]
  },
  {
   "cell_type": "code",
   "execution_count": 3,
   "id": "251ccf31",
   "metadata": {},
   "outputs": [],
   "source": [
    "# copy data\n",
    "eda_x = X_train.copy()\n",
    "eda_y = y_train.copy()\n",
    "\n",
    "# concat data\n",
    "eda = pd.concat([eda_x, eda_y], axis=1)"
   ]
  },
  {
   "cell_type": "code",
   "execution_count": 4,
   "id": "b72c0f7a",
   "metadata": {},
   "outputs": [
    {
     "data": {
      "text/html": [
       "<div>\n",
       "<style scoped>\n",
       "    .dataframe tbody tr th:only-of-type {\n",
       "        vertical-align: middle;\n",
       "    }\n",
       "\n",
       "    .dataframe tbody tr th {\n",
       "        vertical-align: top;\n",
       "    }\n",
       "\n",
       "    .dataframe thead th {\n",
       "        text-align: right;\n",
       "    }\n",
       "</style>\n",
       "<table border=\"1\" class=\"dataframe\">\n",
       "  <thead>\n",
       "    <tr style=\"text-align: right;\">\n",
       "      <th></th>\n",
       "      <th>id</th>\n",
       "      <th>is_tv_subscriber</th>\n",
       "      <th>is_movie_package_subscriber</th>\n",
       "      <th>subscription_age</th>\n",
       "      <th>bill_avg</th>\n",
       "      <th>reamining_contract</th>\n",
       "      <th>service_failure_count</th>\n",
       "      <th>download_avg</th>\n",
       "      <th>upload_avg</th>\n",
       "      <th>download_over_limit</th>\n",
       "      <th>churn</th>\n",
       "    </tr>\n",
       "  </thead>\n",
       "  <tbody>\n",
       "    <tr>\n",
       "      <th>1254</th>\n",
       "      <td>29802</td>\n",
       "      <td>0</td>\n",
       "      <td>0</td>\n",
       "      <td>3.71</td>\n",
       "      <td>13</td>\n",
       "      <td>NaN</td>\n",
       "      <td>2</td>\n",
       "      <td>0.0</td>\n",
       "      <td>0.0</td>\n",
       "      <td>0</td>\n",
       "      <td>1</td>\n",
       "    </tr>\n",
       "    <tr>\n",
       "      <th>64024</th>\n",
       "      <td>1544160</td>\n",
       "      <td>1</td>\n",
       "      <td>1</td>\n",
       "      <td>0.55</td>\n",
       "      <td>15</td>\n",
       "      <td>1.43</td>\n",
       "      <td>0</td>\n",
       "      <td>33.9</td>\n",
       "      <td>1.2</td>\n",
       "      <td>0</td>\n",
       "      <td>0</td>\n",
       "    </tr>\n",
       "    <tr>\n",
       "      <th>4931</th>\n",
       "      <td>120233</td>\n",
       "      <td>1</td>\n",
       "      <td>0</td>\n",
       "      <td>4.44</td>\n",
       "      <td>20</td>\n",
       "      <td>NaN</td>\n",
       "      <td>0</td>\n",
       "      <td>16.6</td>\n",
       "      <td>1.1</td>\n",
       "      <td>0</td>\n",
       "      <td>1</td>\n",
       "    </tr>\n",
       "    <tr>\n",
       "      <th>25031</th>\n",
       "      <td>620843</td>\n",
       "      <td>1</td>\n",
       "      <td>1</td>\n",
       "      <td>5.35</td>\n",
       "      <td>31</td>\n",
       "      <td>NaN</td>\n",
       "      <td>0</td>\n",
       "      <td>3.1</td>\n",
       "      <td>0.6</td>\n",
       "      <td>0</td>\n",
       "      <td>0</td>\n",
       "    </tr>\n",
       "    <tr>\n",
       "      <th>8610</th>\n",
       "      <td>212256</td>\n",
       "      <td>0</td>\n",
       "      <td>0</td>\n",
       "      <td>1.05</td>\n",
       "      <td>22</td>\n",
       "      <td>NaN</td>\n",
       "      <td>0</td>\n",
       "      <td>0.0</td>\n",
       "      <td>0.0</td>\n",
       "      <td>0</td>\n",
       "      <td>1</td>\n",
       "    </tr>\n",
       "  </tbody>\n",
       "</table>\n",
       "</div>"
      ],
      "text/plain": [
       "            id  is_tv_subscriber  is_movie_package_subscriber  \\\n",
       "1254     29802                 0                            0   \n",
       "64024  1544160                 1                            1   \n",
       "4931    120233                 1                            0   \n",
       "25031   620843                 1                            1   \n",
       "8610    212256                 0                            0   \n",
       "\n",
       "       subscription_age  bill_avg  reamining_contract  service_failure_count  \\\n",
       "1254               3.71        13                 NaN                      2   \n",
       "64024              0.55        15                1.43                      0   \n",
       "4931               4.44        20                 NaN                      0   \n",
       "25031              5.35        31                 NaN                      0   \n",
       "8610               1.05        22                 NaN                      0   \n",
       "\n",
       "       download_avg  upload_avg  download_over_limit  churn  \n",
       "1254            0.0         0.0                    0      1  \n",
       "64024          33.9         1.2                    0      0  \n",
       "4931           16.6         1.1                    0      1  \n",
       "25031           3.1         0.6                    0      0  \n",
       "8610            0.0         0.0                    0      1  "
      ]
     },
     "execution_count": 4,
     "metadata": {},
     "output_type": "execute_result"
    }
   ],
   "source": [
    "# sanity check\n",
    "eda.head()"
   ]
  },
  {
   "cell_type": "code",
   "execution_count": 5,
   "id": "7de35f34",
   "metadata": {},
   "outputs": [
    {
     "name": "stdout",
     "output_type": "stream",
     "text": [
      "(49086, 11)\n"
     ]
    }
   ],
   "source": [
    "# Check dimension\n",
    "print(eda.shape)"
   ]
  },
  {
   "cell_type": "code",
   "execution_count": 6,
   "id": "36941b47",
   "metadata": {},
   "outputs": [
    {
     "data": {
      "text/plain": [
       "id                                 0\n",
       "is_tv_subscriber                   0\n",
       "is_movie_package_subscriber        0\n",
       "subscription_age                   0\n",
       "bill_avg                           0\n",
       "reamining_contract             14333\n",
       "service_failure_count              0\n",
       "download_avg                     144\n",
       "upload_avg                       144\n",
       "download_over_limit                0\n",
       "churn                              0\n",
       "dtype: int64"
      ]
     },
     "execution_count": 6,
     "metadata": {},
     "output_type": "execute_result"
    }
   ],
   "source": [
    "# Check missing values\n",
    "eda.isna().sum()"
   ]
  },
  {
   "cell_type": "markdown",
   "id": "9c16fbad",
   "metadata": {},
   "source": [
    "- We need to handle these missing values\n",
    "- Since we don't have much information about these features, it will be safer to drop missing values"
   ]
  },
  {
   "cell_type": "code",
   "execution_count": 7,
   "id": "6dc4c1b7",
   "metadata": {},
   "outputs": [
    {
     "name": "stdout",
     "output_type": "stream",
     "text": [
      "Number of duplicated data: 0\n"
     ]
    }
   ],
   "source": [
    "# Check duplicated\n",
    "print(f\"Number of duplicated data: {eda.duplicated().sum()}\")"
   ]
  },
  {
   "cell_type": "markdown",
   "id": "6dc5fd70",
   "metadata": {},
   "source": [
    "## 4.1 Descriptive Statistics\n",
    "---"
   ]
  },
  {
   "cell_type": "code",
   "execution_count": 8,
   "id": "d4d11ad7",
   "metadata": {
    "scrolled": true
   },
   "outputs": [
    {
     "data": {
      "text/html": [
       "<div>\n",
       "<style scoped>\n",
       "    .dataframe tbody tr th:only-of-type {\n",
       "        vertical-align: middle;\n",
       "    }\n",
       "\n",
       "    .dataframe tbody tr th {\n",
       "        vertical-align: top;\n",
       "    }\n",
       "\n",
       "    .dataframe thead th {\n",
       "        text-align: right;\n",
       "    }\n",
       "</style>\n",
       "<table border=\"1\" class=\"dataframe\">\n",
       "  <thead>\n",
       "    <tr style=\"text-align: right;\">\n",
       "      <th></th>\n",
       "      <th>count</th>\n",
       "      <th>mean</th>\n",
       "      <th>std</th>\n",
       "      <th>min</th>\n",
       "      <th>25%</th>\n",
       "      <th>50%</th>\n",
       "      <th>75%</th>\n",
       "      <th>max</th>\n",
       "    </tr>\n",
       "  </thead>\n",
       "  <tbody>\n",
       "    <tr>\n",
       "      <th>id</th>\n",
       "      <td>49086.0</td>\n",
       "      <td>854844.133113</td>\n",
       "      <td>486811.027171</td>\n",
       "      <td>15.0</td>\n",
       "      <td>434190.75</td>\n",
       "      <td>861389.00</td>\n",
       "      <td>1275329.50</td>\n",
       "      <td>1689733.00</td>\n",
       "    </tr>\n",
       "    <tr>\n",
       "      <th>is_tv_subscriber</th>\n",
       "      <td>49086.0</td>\n",
       "      <td>0.825021</td>\n",
       "      <td>0.379953</td>\n",
       "      <td>0.0</td>\n",
       "      <td>1.00</td>\n",
       "      <td>1.00</td>\n",
       "      <td>1.00</td>\n",
       "      <td>1.00</td>\n",
       "    </tr>\n",
       "    <tr>\n",
       "      <th>is_movie_package_subscriber</th>\n",
       "      <td>49086.0</td>\n",
       "      <td>0.340382</td>\n",
       "      <td>0.473843</td>\n",
       "      <td>0.0</td>\n",
       "      <td>0.00</td>\n",
       "      <td>0.00</td>\n",
       "      <td>1.00</td>\n",
       "      <td>1.00</td>\n",
       "    </tr>\n",
       "    <tr>\n",
       "      <th>subscription_age</th>\n",
       "      <td>49086.0</td>\n",
       "      <td>2.485858</td>\n",
       "      <td>2.040687</td>\n",
       "      <td>0.0</td>\n",
       "      <td>0.95</td>\n",
       "      <td>1.98</td>\n",
       "      <td>3.38</td>\n",
       "      <td>12.80</td>\n",
       "    </tr>\n",
       "    <tr>\n",
       "      <th>bill_avg</th>\n",
       "      <td>49086.0</td>\n",
       "      <td>19.237033</td>\n",
       "      <td>13.055613</td>\n",
       "      <td>0.0</td>\n",
       "      <td>13.00</td>\n",
       "      <td>19.00</td>\n",
       "      <td>23.00</td>\n",
       "      <td>406.00</td>\n",
       "    </tr>\n",
       "    <tr>\n",
       "      <th>reamining_contract</th>\n",
       "      <td>34753.0</td>\n",
       "      <td>0.724484</td>\n",
       "      <td>0.694071</td>\n",
       "      <td>0.0</td>\n",
       "      <td>0.00</td>\n",
       "      <td>0.61</td>\n",
       "      <td>1.32</td>\n",
       "      <td>2.92</td>\n",
       "    </tr>\n",
       "    <tr>\n",
       "      <th>service_failure_count</th>\n",
       "      <td>49086.0</td>\n",
       "      <td>0.283258</td>\n",
       "      <td>0.830011</td>\n",
       "      <td>0.0</td>\n",
       "      <td>0.00</td>\n",
       "      <td>0.00</td>\n",
       "      <td>0.00</td>\n",
       "      <td>16.00</td>\n",
       "    </tr>\n",
       "    <tr>\n",
       "      <th>download_avg</th>\n",
       "      <td>48942.0</td>\n",
       "      <td>44.874419</td>\n",
       "      <td>65.529085</td>\n",
       "      <td>0.0</td>\n",
       "      <td>8.30</td>\n",
       "      <td>29.00</td>\n",
       "      <td>61.70</td>\n",
       "      <td>4415.20</td>\n",
       "    </tr>\n",
       "    <tr>\n",
       "      <th>upload_avg</th>\n",
       "      <td>48942.0</td>\n",
       "      <td>4.320277</td>\n",
       "      <td>10.119327</td>\n",
       "      <td>0.0</td>\n",
       "      <td>0.60</td>\n",
       "      <td>2.20</td>\n",
       "      <td>5.00</td>\n",
       "      <td>453.30</td>\n",
       "    </tr>\n",
       "    <tr>\n",
       "      <th>download_over_limit</th>\n",
       "      <td>49086.0</td>\n",
       "      <td>0.201850</td>\n",
       "      <td>0.982521</td>\n",
       "      <td>0.0</td>\n",
       "      <td>0.00</td>\n",
       "      <td>0.00</td>\n",
       "      <td>0.00</td>\n",
       "      <td>7.00</td>\n",
       "    </tr>\n",
       "    <tr>\n",
       "      <th>churn</th>\n",
       "      <td>49086.0</td>\n",
       "      <td>0.543271</td>\n",
       "      <td>0.498129</td>\n",
       "      <td>0.0</td>\n",
       "      <td>0.00</td>\n",
       "      <td>1.00</td>\n",
       "      <td>1.00</td>\n",
       "      <td>1.00</td>\n",
       "    </tr>\n",
       "  </tbody>\n",
       "</table>\n",
       "</div>"
      ],
      "text/plain": [
       "                               count           mean            std   min  \\\n",
       "id                           49086.0  854844.133113  486811.027171  15.0   \n",
       "is_tv_subscriber             49086.0       0.825021       0.379953   0.0   \n",
       "is_movie_package_subscriber  49086.0       0.340382       0.473843   0.0   \n",
       "subscription_age             49086.0       2.485858       2.040687   0.0   \n",
       "bill_avg                     49086.0      19.237033      13.055613   0.0   \n",
       "reamining_contract           34753.0       0.724484       0.694071   0.0   \n",
       "service_failure_count        49086.0       0.283258       0.830011   0.0   \n",
       "download_avg                 48942.0      44.874419      65.529085   0.0   \n",
       "upload_avg                   48942.0       4.320277      10.119327   0.0   \n",
       "download_over_limit          49086.0       0.201850       0.982521   0.0   \n",
       "churn                        49086.0       0.543271       0.498129   0.0   \n",
       "\n",
       "                                   25%        50%         75%         max  \n",
       "id                           434190.75  861389.00  1275329.50  1689733.00  \n",
       "is_tv_subscriber                  1.00       1.00        1.00        1.00  \n",
       "is_movie_package_subscriber       0.00       0.00        1.00        1.00  \n",
       "subscription_age                  0.95       1.98        3.38       12.80  \n",
       "bill_avg                         13.00      19.00       23.00      406.00  \n",
       "reamining_contract                0.00       0.61        1.32        2.92  \n",
       "service_failure_count             0.00       0.00        0.00       16.00  \n",
       "download_avg                      8.30      29.00       61.70     4415.20  \n",
       "upload_avg                        0.60       2.20        5.00      453.30  \n",
       "download_over_limit               0.00       0.00        0.00        7.00  \n",
       "churn                             0.00       1.00        1.00        1.00  "
      ]
     },
     "execution_count": 8,
     "metadata": {},
     "output_type": "execute_result"
    }
   ],
   "source": [
    "eda.describe().T"
   ]
  },
  {
   "cell_type": "markdown",
   "id": "ee049603",
   "metadata": {},
   "source": [
    "- No negative values\n",
    "- It seems there are outliers in these columns: download_avg, uplaod_avg, bill_avg, subscription_age\n",
    "- We need to validate it and handle it"
   ]
  },
  {
   "cell_type": "markdown",
   "id": "3956ae83",
   "metadata": {},
   "source": [
    "## 4.2 Data Exploration\n",
    "---"
   ]
  },
  {
   "cell_type": "markdown",
   "id": "8e43a7ef",
   "metadata": {},
   "source": [
    "### **`is_tv_subscriber`**"
   ]
  },
  {
   "cell_type": "code",
   "execution_count": 9,
   "id": "5a31a51b",
   "metadata": {},
   "outputs": [
    {
     "data": {
      "text/plain": [
       "1    0.825021\n",
       "0    0.174979\n",
       "Name: is_tv_subscriber, dtype: float64"
      ]
     },
     "execution_count": 9,
     "metadata": {},
     "output_type": "execute_result"
    }
   ],
   "source": [
    "# Describe proportion of `is_tv_subscriber`\n",
    "eda['is_tv_subscriber'].value_counts(normalize=True)"
   ]
  },
  {
   "cell_type": "code",
   "execution_count": 10,
   "id": "d8fa61cf",
   "metadata": {},
   "outputs": [
    {
     "data": {
      "text/plain": [
       "Text(0.5, 1.0, 'is_tv_subscriber')"
      ]
     },
     "execution_count": 10,
     "metadata": {},
     "output_type": "execute_result"
    },
    {
     "data": {
      "image/png": "[encoded data removed]",
      "text/plain": [
       "<Figure size 432x288 with 1 Axes>"
      ]
     },
     "metadata": {
      "needs_background": "light"
     },
     "output_type": "display_data"
    }
   ],
   "source": [
    "sns.countplot(data = eda,\n",
    "             x = 'is_tv_subscriber',\n",
    "             hue = eda['churn'])\n",
    "plt.title('is_tv_subscriber')"
   ]
  },
  {
   "cell_type": "markdown",
   "id": "e9c245e7",
   "metadata": {},
   "source": [
    "- Most our customer are tv subscribers\n",
    "- Even though the count of churners from TV package subscribers is higher, the higher odds of churning seem from the customers who didn't subscribe the TV package"
   ]
  },
  {
   "cell_type": "markdown",
   "id": "84c1bd2b",
   "metadata": {},
   "source": [
    "### **`is_movie_package_subscriber`**"
   ]
  },
  {
   "cell_type": "code",
   "execution_count": 11,
   "id": "36679ddf",
   "metadata": {},
   "outputs": [
    {
     "data": {
      "text/plain": [
       "Text(0.5, 1.0, 'is_movie_subscriber')"
      ]
     },
     "execution_count": 11,
     "metadata": {},
     "output_type": "execute_result"
    },
    {
     "data": {
      "image/png": "[encoded data removed]",
      "text/plain": [
       "<Figure size 432x288 with 1 Axes>"
      ]
     },
     "metadata": {
      "needs_background": "light"
     },
     "output_type": "display_data"
    }
   ],
   "source": [
    "sns.countplot(data = eda,\n",
    "              x = 'is_movie_package_subscriber', \n",
    "              hue=eda['churn'])\n",
    "plt.title('is_movie_subscriber')"
   ]
  },
  {
   "cell_type": "code",
   "execution_count": 12,
   "id": "64354c38",
   "metadata": {},
   "outputs": [
    {
     "data": {
      "text/plain": [
       "0    0.659618\n",
       "1    0.340382\n",
       "Name: is_movie_package_subscriber, dtype: float64"
      ]
     },
     "execution_count": 12,
     "metadata": {},
     "output_type": "execute_result"
    }
   ],
   "source": [
    "# Describe proportion of `is_tv_subscriber`\n",
    "eda['is_movie_package_subscriber'].value_counts(normalize=True)"
   ]
  },
  {
   "cell_type": "markdown",
   "id": "261a8a68",
   "metadata": {},
   "source": [
    "- From here, we know that our sample is dominated by customers who subscribe to the movie package, in a ration of 73:72\n",
    "- The customers who didn't subscribe to the movie package has the higher odds of churning"
   ]
  },
  {
   "cell_type": "markdown",
   "id": "72e1565c",
   "metadata": {},
   "source": [
    "### **`bill_avg`**"
   ]
  },
  {
   "cell_type": "markdown",
   "id": "4621909d",
   "metadata": {},
   "source": [
    "is the last 3 months bill average"
   ]
  },
  {
   "cell_type": "code",
   "execution_count": 13,
   "id": "a6fafc4a",
   "metadata": {},
   "outputs": [
    {
     "data": {
      "text/plain": [
       "count    49086.000000\n",
       "mean        19.237033\n",
       "std         13.055613\n",
       "min          0.000000\n",
       "25%         13.000000\n",
       "50%         19.000000\n",
       "75%         23.000000\n",
       "max        406.000000\n",
       "Name: bill_avg, dtype: float64"
      ]
     },
     "execution_count": 13,
     "metadata": {},
     "output_type": "execute_result"
    }
   ],
   "source": [
    "eda['bill_avg'].describe()"
   ]
  },
  {
   "cell_type": "code",
   "execution_count": 14,
   "id": "00a8ee6b",
   "metadata": {},
   "outputs": [
    {
     "data": {
      "image/png": "[encoded data removed]",
      "text/plain": [
       "<Figure size 864x360 with 2 Axes>"
      ]
     },
     "metadata": {
      "needs_background": "light"
     },
     "output_type": "display_data"
    }
   ],
   "source": [
    "# Create a figure with two subplots\n",
    "fig, axes = plt.subplots(1, 2, figsize=(12, 5))\n",
    "\n",
    "# Plot 1: bill_avg distribution\n",
    "sns.histplot(eda, x='bill_avg', bins=30, ax=axes[0])\n",
    "axes[0].set_title('bill_avg Distribution')\n",
    "\n",
    "# Plot 2: Boxlot\n",
    "sns.boxplot(x='bill_avg', data=eda, ax=axes[1])\n",
    "axes[1].set_title('bill_avg Distribution')\n",
    "\n",
    "# Adjust the spacing between subplots\n",
    "plt.tight_layout()\n",
    "\n",
    "# display the plots\n",
    "plt.show()"
   ]
  },
  {
   "cell_type": "markdown",
   "id": "21375b18",
   "metadata": {},
   "source": [
    "- The churned and retained customers seem from the homogenous population where the average of the last three months' bills is about 19 USD\n",
    "- From the boxplot we got outliers in this variable so we need to handle it "
   ]
  },
  {
   "cell_type": "markdown",
   "id": "758ffa18",
   "metadata": {},
   "source": [
    "### **`reamining_contract`**"
   ]
  },
  {
   "cell_type": "markdown",
   "id": "402902cb",
   "metadata": {},
   "source": [
    "is the year remaining for the customer's subscription contract. If null, the customer hasn't had a contract"
   ]
  },
  {
   "cell_type": "code",
   "execution_count": 15,
   "id": "5af5179b",
   "metadata": {},
   "outputs": [
    {
     "data": {
      "text/plain": [
       "count    34753.000000\n",
       "mean         0.724484\n",
       "std          0.694071\n",
       "min          0.000000\n",
       "25%          0.000000\n",
       "50%          0.610000\n",
       "75%          1.320000\n",
       "max          2.920000\n",
       "Name: reamining_contract, dtype: float64"
      ]
     },
     "execution_count": 15,
     "metadata": {},
     "output_type": "execute_result"
    }
   ],
   "source": [
    "eda['reamining_contract'].describe()"
   ]
  },
  {
   "cell_type": "code",
   "execution_count": 16,
   "id": "e546c280",
   "metadata": {},
   "outputs": [
    {
     "data": {
      "image/png": "[encoded data removed]",
      "text/plain": [
       "<Figure size 864x360 with 2 Axes>"
      ]
     },
     "metadata": {
      "needs_background": "light"
     },
     "output_type": "display_data"
    }
   ],
   "source": [
    "# Create a figure with two subplots\n",
    "fig, axes = plt.subplots(1, 2, figsize=(12, 5))\n",
    "\n",
    "# Plot 1: reamining_contract distribution\n",
    "sns.histplot(eda, x='reamining_contract', bins=30, ax=axes[0])\n",
    "axes[0].set_title('reamining_contract Distribution')\n",
    "\n",
    "# Plot 2: Boxlot\n",
    "sns.boxplot(x='reamining_contract', data=eda, ax=axes[1])\n",
    "axes[1].set_title('reamining_contract Distribution')\n",
    "\n",
    "# Adjust the spacing between subplots\n",
    "plt.tight_layout()\n",
    "\n",
    "# display the plots\n",
    "plt.show()"
   ]
  },
  {
   "cell_type": "code",
   "execution_count": 17,
   "id": "3aa644e8",
   "metadata": {},
   "outputs": [
    {
     "name": "stdout",
     "output_type": "stream",
     "text": [
      "Number of missing values: 14333\n"
     ]
    }
   ],
   "source": [
    "print(f\"Number of missing values: {eda['reamining_contract'].isnull().sum()}\")"
   ]
  },
  {
   "cell_type": "markdown",
   "id": "0d71baf7",
   "metadata": {},
   "source": [
    "- Since the distribution is skew, mean imputation is not recommended to impute this feature\n",
    "- And also, we dont't have musch information / subject matter expert about how to deal with this feature\n",
    "- For safer step, we will drop missing values in this feature"
   ]
  },
  {
   "cell_type": "markdown",
   "id": "c63e46a3",
   "metadata": {},
   "source": [
    "### **`service_failure_count`**"
   ]
  },
  {
   "cell_type": "markdown",
   "id": "19b0011a",
   "metadata": {},
   "source": [
    "is the number of calls to the Call Center for service failure for the last three months."
   ]
  },
  {
   "cell_type": "code",
   "execution_count": 18,
   "id": "d5bfd696",
   "metadata": {},
   "outputs": [
    {
     "data": {
      "text/plain": [
       "count    49086.000000\n",
       "mean         0.283258\n",
       "std          0.830011\n",
       "min          0.000000\n",
       "25%          0.000000\n",
       "50%          0.000000\n",
       "75%          0.000000\n",
       "max         16.000000\n",
       "Name: service_failure_count, dtype: float64"
      ]
     },
     "execution_count": 18,
     "metadata": {},
     "output_type": "execute_result"
    }
   ],
   "source": [
    "eda['service_failure_count'].describe()"
   ]
  },
  {
   "cell_type": "code",
   "execution_count": 19,
   "id": "7b05696d",
   "metadata": {},
   "outputs": [
    {
     "data": {
      "text/plain": [
       "<AxesSubplot:xlabel='service_failure_count', ylabel='Count'>"
      ]
     },
     "execution_count": 19,
     "metadata": {},
     "output_type": "execute_result"
    },
    {
     "data": {
      "image/png": "[encoded data removed]",
      "text/plain": [
       "<Figure size 432x288 with 1 Axes>"
      ]
     },
     "metadata": {
      "needs_background": "light"
     },
     "output_type": "display_data"
    }
   ],
   "source": [
    "sns.histplot(eda['service_failure_count'])"
   ]
  },
  {
   "cell_type": "markdown",
   "id": "12e146aa",
   "metadata": {},
   "source": [
    "- This distribution of this feature is skew.\n",
    "- It indicates that most our customers don't use call center service for service failure last 3 months."
   ]
  },
  {
   "cell_type": "markdown",
   "id": "c3780ea5",
   "metadata": {},
   "source": [
    "### **`download_avg`**"
   ]
  },
  {
   "cell_type": "markdown",
   "id": "07368c46",
   "metadata": {},
   "source": [
    "is the last 3 months internet usage in GB"
   ]
  },
  {
   "cell_type": "code",
   "execution_count": 20,
   "id": "a2480650",
   "metadata": {},
   "outputs": [
    {
     "data": {
      "image/png": "[encoded data removed]",
      "text/plain": [
       "<Figure size 864x360 with 2 Axes>"
      ]
     },
     "metadata": {
      "needs_background": "light"
     },
     "output_type": "display_data"
    }
   ],
   "source": [
    "# Create a figure with two subplots\n",
    "fig, axes = plt.subplots(1, 2, figsize=(12, 5))\n",
    "\n",
    "# Plot 1: reamining_contract distribution\n",
    "sns.histplot(eda, x='download_avg', bins=30, ax=axes[0])\n",
    "axes[0].set_title('download_avg Distribution')\n",
    "\n",
    "# Plot 2: Boxlot\n",
    "sns.boxplot(x='download_avg', data=eda, ax=axes[1])\n",
    "axes[1].set_title('download_avg Distribution')\n",
    "\n",
    "# Adjust the spacing between subplots\n",
    "plt.tight_layout()\n",
    "\n",
    "# display the plots\n",
    "plt.show()"
   ]
  },
  {
   "cell_type": "code",
   "execution_count": 21,
   "id": "601dfd7b",
   "metadata": {},
   "outputs": [
    {
     "name": "stdout",
     "output_type": "stream",
     "text": [
      "Number of missing values: 144\n"
     ]
    }
   ],
   "source": [
    "print(f\"Number of missing values: {eda['download_avg'].isnull().sum()}\")"
   ]
  },
  {
   "cell_type": "markdown",
   "id": "69aa3054",
   "metadata": {},
   "source": [
    "- There're outliers in this feature\n",
    "- We need to handle outliers in preprocessiing\n",
    "- Also we need to handle missing values by dropping the missing rows"
   ]
  },
  {
   "cell_type": "markdown",
   "id": "6b75a915",
   "metadata": {},
   "source": [
    "### **`upload_avg`**"
   ]
  },
  {
   "cell_type": "code",
   "execution_count": 22,
   "id": "12069431",
   "metadata": {},
   "outputs": [
    {
     "data": {
      "image/png": "[encoded data removed]",
      "text/plain": [
       "<Figure size 864x360 with 2 Axes>"
      ]
     },
     "metadata": {
      "needs_background": "light"
     },
     "output_type": "display_data"
    }
   ],
   "source": [
    "# Create a figure with two subplots\n",
    "fig, axes = plt.subplots(1, 2, figsize=(12, 5))\n",
    "\n",
    "# Plot 1: upload_avg¶ Distribution\n",
    "sns.histplot(eda, x='upload_avg', bins=30, ax=axes[0])\n",
    "axes[0].set_title('upload_avg Distribution')\n",
    "\n",
    "# Plot 2: Boxplot\n",
    "sns.boxplot(x='upload_avg', data=eda, ax=axes[1])\n",
    "axes[1].set_title('upload_avg Distribution')\n",
    "\n",
    "# Adjust the spacing between subplots\n",
    "plt.tight_layout()\n",
    "\n",
    "# Display the plots\n",
    "plt.show()"
   ]
  },
  {
   "cell_type": "code",
   "execution_count": 23,
   "id": "00f41124",
   "metadata": {},
   "outputs": [
    {
     "name": "stdout",
     "output_type": "stream",
     "text": [
      "Number of missing values: 144\n"
     ]
    }
   ],
   "source": [
    "print(f\"Number of missing values: {eda['upload_avg'].isnull().sum()}\")"
   ]
  },
  {
   "cell_type": "markdown",
   "id": "7fab44bf",
   "metadata": {},
   "source": [
    "- There're outliers in this feature\n",
    "- We need to handle outliers in preprocessiing\n",
    "- Also we need to handle missing values by dropping the missing rows"
   ]
  },
  {
   "cell_type": "markdown",
   "id": "a0525739",
   "metadata": {},
   "source": [
    "### **`download_over_limit`**"
   ]
  },
  {
   "cell_type": "markdown",
   "id": "3a3f5878",
   "metadata": {},
   "source": [
    "is the count of the internet usage over the customers limit."
   ]
  },
  {
   "cell_type": "code",
   "execution_count": 24,
   "id": "af578f83",
   "metadata": {},
   "outputs": [
    {
     "data": {
      "text/plain": [
       "count    49086.000000\n",
       "mean         0.201850\n",
       "std          0.982521\n",
       "min          0.000000\n",
       "25%          0.000000\n",
       "50%          0.000000\n",
       "75%          0.000000\n",
       "max          7.000000\n",
       "Name: download_over_limit, dtype: float64"
      ]
     },
     "execution_count": 24,
     "metadata": {},
     "output_type": "execute_result"
    }
   ],
   "source": [
    "eda['download_over_limit'].describe()"
   ]
  },
  {
   "cell_type": "code",
   "execution_count": 25,
   "id": "7c2c0637",
   "metadata": {},
   "outputs": [
    {
     "data": {
      "text/plain": [
       "<AxesSubplot:xlabel='download_over_limit', ylabel='Count'>"
      ]
     },
     "execution_count": 25,
     "metadata": {},
     "output_type": "execute_result"
    },
    {
     "data": {
      "image/png": "[encoded data removed]",
      "text/plain": [
       "<Figure size 432x288 with 1 Axes>"
      ]
     },
     "metadata": {
      "needs_background": "light"
     },
     "output_type": "display_data"
    }
   ],
   "source": [
    "sns.histplot(eda['download_over_limit'])"
   ]
  },
  {
   "cell_type": "markdown",
   "id": "1a91e7ce",
   "metadata": {},
   "source": [
    "- Most our users is not exceeding the limit of download."
   ]
  },
  {
   "cell_type": "markdown",
   "id": "b42d1e7b",
   "metadata": {},
   "source": [
    "### **`subscription_age`**"
   ]
  },
  {
   "cell_type": "markdown",
   "id": "5ee28e21",
   "metadata": {},
   "source": [
    "is the years of customer using the internet service."
   ]
  },
  {
   "cell_type": "code",
   "execution_count": 26,
   "id": "b1a386b5",
   "metadata": {},
   "outputs": [
    {
     "data": {
      "image/png": "[encoded data removed]",
      "text/plain": [
       "<Figure size 864x360 with 2 Axes>"
      ]
     },
     "metadata": {
      "needs_background": "light"
     },
     "output_type": "display_data"
    }
   ],
   "source": [
    "# Create a figure with two subplots\n",
    "fig, axes = plt.subplots(1, 2, figsize=(12, 5))\n",
    "\n",
    "# Plot 1: upload_avg¶ Distribution\n",
    "sns.histplot(eda, x='subscription_age', bins=30, ax=axes[0])\n",
    "axes[0].set_title('subscription_age Distribution')\n",
    "\n",
    "# Plot 2: Boxplot\n",
    "sns.boxplot(x='subscription_age', data=eda, ax=axes[1])\n",
    "axes[1].set_title('subscription_age Distribution')\n",
    "\n",
    "# Adjust the spacing between subplots\n",
    "plt.tight_layout()\n",
    "\n",
    "# Display the plots\n",
    "plt.show()"
   ]
  },
  {
   "cell_type": "markdown",
   "id": "1ff0c633",
   "metadata": {},
   "source": [
    "- Most of customers have subscription around 0-2 years\n",
    "- There's outlier in this feature, we need to handle it"
   ]
  },
  {
   "cell_type": "markdown",
   "id": "c639b23a",
   "metadata": {},
   "source": [
    "### **`churn`**"
   ]
  },
  {
   "cell_type": "code",
   "execution_count": 27,
   "id": "0eb80a38",
   "metadata": {},
   "outputs": [
    {
     "name": "stderr",
     "output_type": "stream",
     "text": [
      "C:\\Users\\lenovo\\anaconda3\\lib\\site-packages\\seaborn\\_decorators.py:36: FutureWarning: Pass the following variable as a keyword arg: x. From version 0.12, the only valid positional argument will be `data`, and passing other arguments without an explicit keyword will result in an error or misinterpretation.\n",
      "  warnings.warn(\n"
     ]
    },
    {
     "data": {
      "text/plain": [
       "<AxesSubplot:xlabel='churn', ylabel='count'>"
      ]
     },
     "execution_count": 27,
     "metadata": {},
     "output_type": "execute_result"
    },
    {
     "data": {
      "image/png": "[encoded data removed]",
      "text/plain": [
       "<Figure size 432x288 with 1 Axes>"
      ]
     },
     "metadata": {
      "needs_background": "light"
     },
     "output_type": "display_data"
    }
   ],
   "source": [
    "sns.countplot(eda['churn'])"
   ]
  },
  {
   "cell_type": "code",
   "execution_count": 28,
   "id": "e739983a",
   "metadata": {},
   "outputs": [
    {
     "data": {
      "text/plain": [
       "1    0.543271\n",
       "0    0.456729\n",
       "Name: churn, dtype: float64"
      ]
     },
     "execution_count": 28,
     "metadata": {},
     "output_type": "execute_result"
    }
   ],
   "source": [
    "eda['churn'].value_counts(normalize=True)"
   ]
  },
  {
   "cell_type": "markdown",
   "id": "096a0a08",
   "metadata": {},
   "source": [
    "## 4.3 Summary\n",
    "---"
   ]
  },
  {
   "cell_type": "markdown",
   "id": "2ca5b532",
   "metadata": {},
   "source": [
    "- We need to handle outliers in 4 columns: ['bill_avg','upload_avg','download_avg','subscription_age']\n",
    "- We need to drop missing values in: ['reamining_contract','download_avg','upload_avg']"
   ]
  },
  {
   "cell_type": "code",
   "execution_count": null,
   "id": "31ce0704",
   "metadata": {},
   "outputs": [],
   "source": []
  }
 ],
 "metadata": {
  "kernelspec": {
   "display_name": "Python 3 (ipykernel)",
   "language": "python",
   "name": "python3"
  },
  "language_info": {
   "codemirror_mode": {
    "name": "ipython",
    "version": 3
   },
   "file_extension": ".py",
   "mimetype": "text/x-python",
   "name": "python",
   "nbconvert_exporter": "python",
   "pygments_lexer": "ipython3",
   "version": "3.9.12"
  }
 },
 "nbformat": 4,
 "nbformat_minor": 5
}
