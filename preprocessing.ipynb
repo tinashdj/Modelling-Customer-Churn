{
 "cells": [
  {
   "cell_type": "code",
   "execution_count": 1,
   "id": "f47c2e48",
   "metadata": {},
   "outputs": [],
   "source": [
    "#Load data manipulation package\n",
    "import numpy as np\n",
    "import pandas as pd\n",
    "\n",
    "#Load data visualization package\n",
    "import matplotlib.pyplot as plt\n",
    "import seaborn as sns\n",
    "\n",
    "#Data dumb store\n",
    "import joblib"
   ]
  },
  {
   "cell_type": "markdown",
   "id": "5c661825",
   "metadata": {},
   "source": [
    "# 1. Business Understanding\n",
    "---"
   ]
  },
  {
   "cell_type": "markdown",
   "id": "495e7a61",
   "metadata": {},
   "source": [
    "- Knowing customer churn is essential for internet provider company for effectively prevent them using appropriate marketing initiative\n",
    "- Internet provider company wants to give specific marketing initiative for preventing customer churn"
   ]
  },
  {
   "cell_type": "markdown",
   "id": "1101f740",
   "metadata": {},
   "source": [
    "## 1.2 Business Questions\n",
    "---"
   ]
  },
  {
   "cell_type": "markdown",
   "id": "72c22ede",
   "metadata": {},
   "source": [
    "- How can internet provider company develop marketing effectiveness strategy to increase reduce 30% of churn?\n",
    "- What marketing initiatives are suitable to reduce the 30% customer churn?\n",
    "- How to prevent unnecessary budget allocation?"
   ]
  },
  {
   "cell_type": "markdown",
   "id": "c894206a",
   "metadata": {},
   "source": [
    "## 1.3 Modelling Task\n",
    "---"
   ]
  },
  {
   "cell_type": "markdown",
   "id": "c58f512b",
   "metadata": {},
   "source": [
    "- Output target: **customer status of churn (categorical)**\n",
    "\n",
    "\n",
    "- The goal of this project is to predict whether a customer will churn or not based on various features.\n",
    "Task: **Classification task**\n",
    "\n",
    "\n",
    "- We need a model that can be easily interpreted so that we can understand how each feature contributes to the prediction. This can help us gain insights into the underlying factors that influence whether a customer will churn or not.\n",
    "Model used: **Logistic regression**\n",
    "\n",
    "\n",
    "- We will use ROC/AUC as our evaluation metric since we want it's not influeced by imbalance target and we need to measure threshold using ROC/AUC. **Evaluation metric: ROC/AUC**"
   ]
  },
  {
   "cell_type": "markdown",
   "id": "3778beec",
   "metadata": {},
   "source": [
    "# 2. Modelling Workflow\n",
    "---"
   ]
  },
  {
   "cell_type": "markdown",
   "id": "b695ddfe",
   "metadata": {},
   "source": [
    "## **Machine Learning Workflow** (Simplified)\n",
    "\n",
    "### 1. <font color='blue'> Importing Data to Python:\n",
    "    * Data description, Importing data, Data splitting\n",
    "    \n",
    "### 2. <font color='blue'> Exploratory Data Analysis:\n",
    "    *Descriptive statistic, Missing value checking, Data exploration\n",
    "    \n",
    "### 3. <font color='blue'> Prepocessing:\n",
    "    * Missing value handling, Outliers handling\n",
    "\n",
    "### 4. <font color='blue'> Modelling:\n",
    "    * Model fitting, Evaluation\n",
    "    \n",
    "### 5. <font color='blue'> Lift Chart & Interpretation:\n",
    "    * Targetting customer churn, Coeficient interpretation"
   ]
  },
  {
   "cell_type": "markdown",
   "id": "a44241cd",
   "metadata": {},
   "source": [
    "# 3. Load Data\n",
    "---"
   ]
  },
  {
   "cell_type": "markdown",
   "id": "955ec5c7",
   "metadata": {},
   "source": [
    "- We want to describe our features and target feature\n",
    "- Load the data from specific path"
   ]
  },
  {
   "cell_type": "markdown",
   "id": "4fe096a2",
   "metadata": {},
   "source": [
    "## 3.1 Data Description\n",
    "---"
   ]
  },
  {
   "cell_type": "markdown",
   "id": "d7dc2aa3",
   "metadata": {},
   "source": [
    "The potential **predictors** for the response variable are:\n",
    "1. `is_tv_subscriber`\n",
    " - `is_tv_subscriber = 0` for the customers who didn't subscribe to the TV package or only subscribe to the internet package.\n",
    "  - `is_tv_subscriber = 1` for the customers who subscribe to the TV package.\n",
    "\n",
    "\n",
    "2. `is_movie_package_subscriber`\n",
    "  - `is_movie_package_subscriber = 0` for the customers who didn't subscribe to the movie package or only subscribe to the internet package.\n",
    "  - `is_movie_package_subscriber = 1` for the customers who subscribe to the movie package.\n",
    "\n",
    "\n",
    "3. `subscription_age` is the years of customer using the internet service.\n",
    "4. `bill_avg` is the last three months' bill average.\n",
    "5. `remaining_contract` is the year remaining for the customer's subscription contract. If null, the customer hasn't had a contract.\n",
    "6. `service_failure_count` is the number of calls to the Call Center for service failure for the last three months.\n",
    "7. `download_avg` is the last three months internet usage in GB.\n",
    "8. `upload_avg` is the last three months upload in GB.\n",
    "9. `download_over_limit` is the count of the internet usage over the customer's limit.\n",
    "\n",
    "**Target variable**:\n",
    "- `churn`\n",
    "  - `churn = 0` for the customers who retain.\n",
    "  - `churn = 1` for the customers who cancel their subscription before the contract ends or the customers who didn't renew their subscription after the contract ended."
   ]
  },
  {
   "cell_type": "markdown",
   "id": "e8de5c99",
   "metadata": {},
   "source": [
    "## 3.2 Importing Data\n",
    "---"
   ]
  },
  {
   "cell_type": "code",
   "execution_count": 2,
   "id": "52fb002d",
   "metadata": {},
   "outputs": [],
   "source": [
    "X_train = joblib.load(\"data/raw/X_train.pkl\")\n",
    "y_train = joblib.load(\"data/raw/y_train.pkl\")\n",
    "X_valid = joblib.load(\"data/raw/X_valid.pkl\")\n",
    "y_valid = joblib.load(\"data/raw/y_valid.pkl\")\n",
    "X_test  = joblib.load(\"data/raw/X_test.pkl\")\n",
    "y_test  = joblib.load(\"data/raw/y_test.pkl\")"
   ]
  },
  {
   "cell_type": "markdown",
   "id": "2bbab490",
   "metadata": {},
   "source": [
    "# 4. Data Preprocessing\n",
    "---"
   ]
  },
  {
   "cell_type": "code",
   "execution_count": 3,
   "id": "f6ce43a8",
   "metadata": {},
   "outputs": [
    {
     "name": "stdout",
     "output_type": "stream",
     "text": [
      "Faetures dimension with 49086, rows and 10 columns\n"
     ]
    }
   ],
   "source": [
    "# check training data dimension\n",
    "print(f\"Faetures dimension with {X_train.shape[0]}, rows and {X_train.shape[1]} columns\")"
   ]
  },
  {
   "cell_type": "markdown",
   "id": "e496a1e4",
   "metadata": {},
   "source": [
    "**EDA Summary**\n",
    "- We need to hanlde outliers in 4 columns: ['bill_avg', 'upload_avg', 'download_avg', 'subscription_age']\n",
    "- We need to drop missing vaules in : ['reamining_contract', 'download_avg', 'upload_avg']"
   ]
  },
  {
   "cell_type": "markdown",
   "id": "2f2e95de",
   "metadata": {},
   "source": [
    "## 4.1 Drop Unused Feature\n",
    "---"
   ]
  },
  {
   "cell_type": "code",
   "execution_count": 4,
   "id": "87d99be8",
   "metadata": {},
   "outputs": [],
   "source": [
    "X_train_dropid = X_train.drop('id', axis=1)"
   ]
  },
  {
   "cell_type": "code",
   "execution_count": 5,
   "id": "eef2a6fd",
   "metadata": {},
   "outputs": [
    {
     "data": {
      "text/html": [
       "<div>\n",
       "<style scoped>\n",
       "    .dataframe tbody tr th:only-of-type {\n",
       "        vertical-align: middle;\n",
       "    }\n",
       "\n",
       "    .dataframe tbody tr th {\n",
       "        vertical-align: top;\n",
       "    }\n",
       "\n",
       "    .dataframe thead th {\n",
       "        text-align: right;\n",
       "    }\n",
       "</style>\n",
       "<table border=\"1\" class=\"dataframe\">\n",
       "  <thead>\n",
       "    <tr style=\"text-align: right;\">\n",
       "      <th></th>\n",
       "      <th>is_tv_subscriber</th>\n",
       "      <th>is_movie_package_subscriber</th>\n",
       "      <th>subscription_age</th>\n",
       "      <th>bill_avg</th>\n",
       "      <th>reamining_contract</th>\n",
       "      <th>service_failure_count</th>\n",
       "      <th>download_avg</th>\n",
       "      <th>upload_avg</th>\n",
       "      <th>download_over_limit</th>\n",
       "    </tr>\n",
       "  </thead>\n",
       "  <tbody>\n",
       "    <tr>\n",
       "      <th>1254</th>\n",
       "      <td>0</td>\n",
       "      <td>0</td>\n",
       "      <td>3.71</td>\n",
       "      <td>13</td>\n",
       "      <td>NaN</td>\n",
       "      <td>2</td>\n",
       "      <td>0.0</td>\n",
       "      <td>0.0</td>\n",
       "      <td>0</td>\n",
       "    </tr>\n",
       "    <tr>\n",
       "      <th>64024</th>\n",
       "      <td>1</td>\n",
       "      <td>1</td>\n",
       "      <td>0.55</td>\n",
       "      <td>15</td>\n",
       "      <td>1.43</td>\n",
       "      <td>0</td>\n",
       "      <td>33.9</td>\n",
       "      <td>1.2</td>\n",
       "      <td>0</td>\n",
       "    </tr>\n",
       "    <tr>\n",
       "      <th>4931</th>\n",
       "      <td>1</td>\n",
       "      <td>0</td>\n",
       "      <td>4.44</td>\n",
       "      <td>20</td>\n",
       "      <td>NaN</td>\n",
       "      <td>0</td>\n",
       "      <td>16.6</td>\n",
       "      <td>1.1</td>\n",
       "      <td>0</td>\n",
       "    </tr>\n",
       "    <tr>\n",
       "      <th>25031</th>\n",
       "      <td>1</td>\n",
       "      <td>1</td>\n",
       "      <td>5.35</td>\n",
       "      <td>31</td>\n",
       "      <td>NaN</td>\n",
       "      <td>0</td>\n",
       "      <td>3.1</td>\n",
       "      <td>0.6</td>\n",
       "      <td>0</td>\n",
       "    </tr>\n",
       "    <tr>\n",
       "      <th>8610</th>\n",
       "      <td>0</td>\n",
       "      <td>0</td>\n",
       "      <td>1.05</td>\n",
       "      <td>22</td>\n",
       "      <td>NaN</td>\n",
       "      <td>0</td>\n",
       "      <td>0.0</td>\n",
       "      <td>0.0</td>\n",
       "      <td>0</td>\n",
       "    </tr>\n",
       "  </tbody>\n",
       "</table>\n",
       "</div>"
      ],
      "text/plain": [
       "       is_tv_subscriber  is_movie_package_subscriber  subscription_age  \\\n",
       "1254                  0                            0              3.71   \n",
       "64024                 1                            1              0.55   \n",
       "4931                  1                            0              4.44   \n",
       "25031                 1                            1              5.35   \n",
       "8610                  0                            0              1.05   \n",
       "\n",
       "       bill_avg  reamining_contract  service_failure_count  download_avg  \\\n",
       "1254         13                 NaN                      2           0.0   \n",
       "64024        15                1.43                      0          33.9   \n",
       "4931         20                 NaN                      0          16.6   \n",
       "25031        31                 NaN                      0           3.1   \n",
       "8610         22                 NaN                      0           0.0   \n",
       "\n",
       "       upload_avg  download_over_limit  \n",
       "1254          0.0                    0  \n",
       "64024         1.2                    0  \n",
       "4931          1.1                    0  \n",
       "25031         0.6                    0  \n",
       "8610          0.0                    0  "
      ]
     },
     "execution_count": 5,
     "metadata": {},
     "output_type": "execute_result"
    }
   ],
   "source": [
    "X_train_dropid.head()"
   ]
  },
  {
   "cell_type": "markdown",
   "id": "5854983d",
   "metadata": {},
   "source": [
    "## 4.2 Drop Missing Values\n",
    "---"
   ]
  },
  {
   "cell_type": "code",
   "execution_count": 6,
   "id": "099258ba",
   "metadata": {},
   "outputs": [],
   "source": [
    "# function split input and output\n",
    "def split_input_output(data, target_column):\n",
    "    \"\"\"\n",
    "    Function to split input (x) and output (y)\n",
    "\n",
    "    Parameters\n",
    "    ----------\n",
    "    data: <pandas dataframe>\n",
    "          dataframe input\n",
    "\n",
    "    target_column: <string>\n",
    "                   output column name\n",
    "\n",
    "    Return\n",
    "    ------\n",
    "\n",
    "    x: <pandas dataframe>\n",
    "        input data\n",
    "\n",
    "    y: <pandas dataframe>\n",
    "       output data\n",
    "\n",
    "    \"\"\"\n",
    "    X = data.drop(columns = target_column)\n",
    "    y = data[target_column]\n",
    "\n",
    "    return X, y"
   ]
  },
  {
   "cell_type": "code",
   "execution_count": 7,
   "id": "8fb27d82",
   "metadata": {},
   "outputs": [],
   "source": [
    "# crate function to drop missing values\n",
    "def drop_missing_values(X, y):\n",
    "    \"\"\"\n",
    "    Function to drop outliers by IQR\n",
    "\n",
    "    Parameters\n",
    "    ----------\n",
    "    data : pandas DataFrame\n",
    "        The sample data\n",
    "\n",
    "    cols : list\n",
    "        List of columns to clean\n",
    "\n",
    "    Returns\n",
    "    -------\n",
    "    data_clean : pandas DataFrame\n",
    "        The clean sample data\n",
    "    \"\"\"\n",
    "    dataset = pd.concat([X,y], axis=1)\n",
    "    \n",
    "    dataset_clean = dataset.dropna()\n",
    "    \n",
    "    # split input output\n",
    "    X_clean, y_clean = split_input_output(data = dataset_clean,\n",
    "                                          target_column = 'churn')\n",
    "    \n",
    "    return X_clean, y_clean"
   ]
  },
  {
   "cell_type": "code",
   "execution_count": 8,
   "id": "2d6afcc6",
   "metadata": {},
   "outputs": [
    {
     "data": {
      "text/plain": [
       "is_tv_subscriber                   0\n",
       "is_movie_package_subscriber        0\n",
       "subscription_age                   0\n",
       "bill_avg                           0\n",
       "reamining_contract             14333\n",
       "service_failure_count              0\n",
       "download_avg                     144\n",
       "upload_avg                       144\n",
       "download_over_limit                0\n",
       "dtype: int64"
      ]
     },
     "execution_count": 8,
     "metadata": {},
     "output_type": "execute_result"
    }
   ],
   "source": [
    "# Check missing values\n",
    "X_train_dropid.isnull().sum()"
   ]
  },
  {
   "cell_type": "code",
   "execution_count": 9,
   "id": "e4f65c40",
   "metadata": {},
   "outputs": [],
   "source": [
    "X_train_clean, y_train_clean = drop_missing_values(X = X_train_dropid,\n",
    "                                                   y = y_train)"
   ]
  },
  {
   "cell_type": "code",
   "execution_count": 10,
   "id": "188939da",
   "metadata": {},
   "outputs": [
    {
     "data": {
      "text/plain": [
       "is_tv_subscriber               0\n",
       "is_movie_package_subscriber    0\n",
       "subscription_age               0\n",
       "bill_avg                       0\n",
       "reamining_contract             0\n",
       "service_failure_count          0\n",
       "download_avg                   0\n",
       "upload_avg                     0\n",
       "download_over_limit            0\n",
       "dtype: int64"
      ]
     },
     "execution_count": 10,
     "metadata": {},
     "output_type": "execute_result"
    }
   ],
   "source": [
    "# check missing values\n",
    "X_train_clean.isnull().sum()"
   ]
  },
  {
   "cell_type": "markdown",
   "id": "afdc314c",
   "metadata": {},
   "source": [
    "## 4.3 Handle Outliers"
   ]
  },
  {
   "cell_type": "markdown",
   "id": "54a76126",
   "metadata": {},
   "source": [
    "we will handle outliers in these columns:\n",
    "- bill_avg\n",
    "- download_avg\n",
    "- upload_avg\n",
    "- subscription_age"
   ]
  },
  {
   "cell_type": "code",
   "execution_count": 11,
   "id": "0401acb8",
   "metadata": {},
   "outputs": [],
   "source": [
    "def drop_outlier(x, y, cols):\n",
    "    \"\"\"\n",
    "    Function to drop outliers by IQR\n",
    "\n",
    "    Parameters\n",
    "    ----------\n",
    "    data : pandas DataFrame\n",
    "        The sample data\n",
    "\n",
    "    cols : list\n",
    "        List of columns to clean\n",
    "\n",
    "    Returns\n",
    "    -------\n",
    "    data_clean : pandas DataFrame\n",
    "        The clean sample data\n",
    "    \"\"\"\n",
    "    # Copy data\n",
    "    data_clean = pd.concat([x,y], axis=1)\n",
    "\n",
    "    # Iterate over columns\n",
    "    for col in cols:\n",
    "        # Find IQR\n",
    "        q1, q3 = np.quantile(data_clean[col], q=[0.25, 0.75])\n",
    "        iqr = q3 - q1\n",
    "        ub = q3 + 1.5 * iqr  # upper bound\n",
    "        lb = q1 - 1.5 * iqr  # lower bound\n",
    "\n",
    "        # Filter data\n",
    "        cond_data_1 = data_clean[col] <= ub\n",
    "        cond_data_2 = data_clean[col] >= lb\n",
    "        data_clean = data_clean[cond_data_1 & cond_data_2]\n",
    "\n",
    "    # split input output\n",
    "    X_clean, y_clean = split_input_output(data = data_clean,\n",
    "                                          target_column = 'churn')\n",
    "    \n",
    "    return X_clean, y_clean"
   ]
  },
  {
   "cell_type": "code",
   "execution_count": 12,
   "id": "9d692db3",
   "metadata": {},
   "outputs": [],
   "source": [
    "X_train_clean, y_train_clean = drop_outlier(x = X_train_clean,\n",
    "                                            y = y_train_clean,\n",
    "                                            cols = ['bill_avg', 'upload_avg','download_avg','subscription_age'])"
   ]
  },
  {
   "cell_type": "code",
   "execution_count": 13,
   "id": "685986e5",
   "metadata": {},
   "outputs": [
    {
     "name": "stdout",
     "output_type": "stream",
     "text": [
      "Number of rows in X : 28931\n",
      "Number of rows in y : 28931\n"
     ]
    }
   ],
   "source": [
    "# check dimension\n",
    "print(f\"Number of rows in X : {X_train_clean.shape[0]}\")\n",
    "print(f\"Number of rows in y : {y_train_clean.shape[0]}\")"
   ]
  },
  {
   "cell_type": "code",
   "execution_count": 14,
   "id": "c950d4da",
   "metadata": {},
   "outputs": [
    {
     "data": {
      "image/png": "[encoded data removed]",
      "text/plain": [
       "<Figure size 1008x288 with 4 Axes>"
      ]
     },
     "metadata": {
      "needs_background": "light"
     },
     "output_type": "display_data"
    }
   ],
   "source": [
    "# Select the columns for boxplot\n",
    "columns_to_plot = ['bill_avg', 'upload_avg','download_avg','subscription_age']\n",
    "\n",
    "# Create a figure with subplots\n",
    "fig, axes = plt.subplots(nrows=1, ncols=4, figsize=(14, 4))\n",
    "\n",
    "# Iterate over the columns and create boxplots\n",
    "for i, col in enumerate(columns_to_plot):\n",
    "    sns.boxplot(x=X_train_clean[col], ax=axes[i])\n",
    "    axes[i].set_title(col)\n",
    "\n",
    "# Adjust the spacing between subplots\n",
    "plt.tight_layout()\n",
    "\n",
    "# Display the plot\n",
    "plt.show()"
   ]
  },
  {
   "cell_type": "markdown",
   "id": "15d6a7b7",
   "metadata": {},
   "source": [
    "## 4.4 Create Preprocess Function\n",
    "---"
   ]
  },
  {
   "cell_type": "code",
   "execution_count": 15,
   "id": "ec068829",
   "metadata": {},
   "outputs": [],
   "source": [
    "def preprocess(x, y):\n",
    "    \"\"\"\n",
    "    Function to implement all preprocessing steps\n",
    "    \n",
    "    Parameter:\n",
    "    ----------\n",
    "    x : <pandas dataframe>\n",
    "        raw predictors before cleaning\n",
    "        \n",
    "    y : <series>\n",
    "        raw target variable\n",
    "    \n",
    "    Return:\n",
    "    -------\n",
    "    x_clean : <pandas dataframe>\n",
    "              preprocessed predictors\n",
    "        \n",
    "    y_clean : <series>\n",
    "              preprocessed target variable\n",
    "    \"\"\"\n",
    "    \n",
    "    # 1. drop unused feature (id)\n",
    "    x_dropid = x.drop('id', axis=1)\n",
    "    \n",
    "    # 2. Drop missing values\n",
    "    x_clean, y_clean = drop_missing_values(x_dropid, y)\n",
    "    \n",
    "    # we don't drop outliers here because test data is unseen\n",
    "    \n",
    "    return x_clean, y_clean"
   ]
  },
  {
   "cell_type": "code",
   "execution_count": 16,
   "id": "f18800ef",
   "metadata": {},
   "outputs": [],
   "source": [
    "X_valid_clean, y_valid_clean = preprocess(x = X_valid, \n",
    "                                          y = y_valid)\n",
    "\n",
    "\n",
    "X_test_clean, y_test_clean = preprocess(x = X_test, \n",
    "                                        y = y_test)"
   ]
  },
  {
   "cell_type": "code",
   "execution_count": 17,
   "id": "26face55",
   "metadata": {},
   "outputs": [
    {
     "data": {
      "text/plain": [
       "['data/processed/y_test_clean.pkl']"
      ]
     },
     "execution_count": 17,
     "metadata": {},
     "output_type": "execute_result"
    }
   ],
   "source": [
    "# save the data\n",
    "joblib.dump(X_train_clean, \"data/processed/X_train_clean.pkl\")\n",
    "joblib.dump(y_train_clean, \"data/processed/y_train_clean.pkl\")\n",
    "joblib.dump(X_valid_clean, \"data/processed/X_valid_clean.pkl\")\n",
    "joblib.dump(y_valid_clean, \"data/processed/y_valid_clean.pkl\")\n",
    "joblib.dump(X_test_clean, \"data/processed/X_test_clean.pkl\")\n",
    "joblib.dump(y_test_clean, \"data/processed/y_test_clean.pkl\")"
   ]
  },
  {
   "cell_type": "code",
   "execution_count": null,
   "id": "1ca442c3",
   "metadata": {},
   "outputs": [],
   "source": []
  }
 ],
 "metadata": {
  "kernelspec": {
   "display_name": "Python 3 (ipykernel)",
   "language": "python",
   "name": "python3"
  },
  "language_info": {
   "codemirror_mode": {
    "name": "ipython",
    "version": 3
   },
   "file_extension": ".py",
   "mimetype": "text/x-python",
   "name": "python",
   "nbconvert_exporter": "python",
   "pygments_lexer": "ipython3",
   "version": "3.9.12"
  }
 },
 "nbformat": 4,
 "nbformat_minor": 5
}
